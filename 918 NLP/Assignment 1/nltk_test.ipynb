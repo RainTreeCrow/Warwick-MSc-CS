{
 "cells": [
  {
   "cell_type": "code",
   "execution_count": 1,
   "metadata": {},
   "outputs": [
    {
     "name": "stdout",
     "output_type": "stream",
     "text": [
      "Tokenized Sentences: <generator object padded_everygram_pipeline.<locals>.<genexpr> at 0x00000230C97D4660>\n",
      "Vocabulary: <itertools.chain object at 0x00000230A9696680>\n"
     ]
    }
   ],
   "source": [
    "from nltk.lm.preprocessing import padded_everygram_pipeline\n",
    "\n",
    "# Example corpus (list of sentences)\n",
    "corpus = [\"This is a sentence.\", \"Another example sentence.\", \"Yet another sentence.\"]\n",
    "\n",
    "# Use padded_everygram_pipeline to tokenize, create vocabulary, and pad sentences\n",
    "tokenized_sentences, vocabulary = padded_everygram_pipeline(2, corpus)\n",
    "\n",
    "# Print the results\n",
    "print(\"Tokenized Sentences:\", tokenized_sentences)\n",
    "print(\"Vocabulary:\", vocabulary)"
   ]
  },
  {
   "cell_type": "code",
   "execution_count": 2,
   "metadata": {},
   "outputs": [
    {
     "name": "stdout",
     "output_type": "stream",
     "text": [
      "<zip object at 0x00000230A96C5480>\n"
     ]
    }
   ],
   "source": [
    "from nltk.util import ngrams\n",
    "\n",
    "# Example sequence (list of words)\n",
    "sequence = [\"This\", \"is\", \"a\", \"sample\", \"sentence\"]\n",
    "\n",
    "# Generate bigrams using ngrams\n",
    "bigrams = ngrams(sequence, 2)\n",
    "\n",
    "# Print the generated bigrams\n",
    "print(bigrams)"
   ]
  },
  {
   "cell_type": "code",
   "execution_count": 3,
   "metadata": {},
   "outputs": [
    {
     "name": "stdout",
     "output_type": "stream",
     "text": [
      "<ConditionalFreqDist with 2 conditions>\n",
      "<FreqDist with 2 samples and 2 outcomes>\n"
     ]
    }
   ],
   "source": [
    "import nltk\n",
    "\n",
    "ngrams = [(\"I\", \"love\", \"NLTK\"),\n",
    "          (\"NLTK\", \"is\", \"awesome\"),\n",
    "          (\"I\", \"love\", \"Python\")\n",
    "          ]\n",
    "\n",
    "cfd = nltk.ConditionalFreqDist((gram[:2], gram[2]) for gram in ngrams)\n",
    "\n",
    "print(cfd)\n",
    "print(cfd[(\"I\", \"love\")])"
   ]
  },
  {
   "cell_type": "code",
   "execution_count": 4,
   "metadata": {},
   "outputs": [
    {
     "data": {
      "text/plain": [
       "<ConditionalFreqDist with 36 conditions>"
      ]
     },
     "execution_count": 4,
     "metadata": {},
     "output_type": "execute_result"
    }
   ],
   "source": [
    "from itertools import product\n",
    "\n",
    "vocabulary = set([\"I\", \"love\", \"NLTK\", \"is\", \"awesome\", \"Python\"])\n",
    "\n",
    "add_one = list(product(vocabulary, repeat=3))\n",
    "\n",
    "trigrams = ngrams + add_one\n",
    "\n",
    "cond_freq_dist = nltk.ConditionalFreqDist((trigram[:2], trigram[2]) for trigram in trigrams)\n",
    "\n",
    "cond_freq_dist"
   ]
  },
  {
   "cell_type": "code",
   "execution_count": 6,
   "metadata": {},
   "outputs": [
    {
     "data": {
      "text/plain": [
       "FreqDist({'NLTK': 2, 'Python': 2, 'love': 1, 'is': 1, 'awesome': 1, 'I': 1})"
      ]
     },
     "execution_count": 6,
     "metadata": {},
     "output_type": "execute_result"
    }
   ],
   "source": [
    "cond_freq_dist[(\"I\", \"love\")]"
   ]
  }
 ],
 "metadata": {
  "kernelspec": {
   "display_name": "Python 3",
   "language": "python",
   "name": "python3"
  },
  "language_info": {
   "codemirror_mode": {
    "name": "ipython",
    "version": 3
   },
   "file_extension": ".py",
   "mimetype": "text/x-python",
   "name": "python",
   "nbconvert_exporter": "python",
   "pygments_lexer": "ipython3",
   "version": "3.10.0"
  }
 },
 "nbformat": 4,
 "nbformat_minor": 2
}
