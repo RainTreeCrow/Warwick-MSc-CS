{
 "cells": [
  {
   "cell_type": "code",
   "execution_count": 23,
   "metadata": {},
   "outputs": [
    {
     "name": "stderr",
     "output_type": "stream",
     "text": [
      "[nltk_data] Downloading package punkt to\n",
      "[nltk_data]     C:\\Users\\Sleepyard\\AppData\\Roaming\\nltk_data...\n",
      "[nltk_data]   Package punkt is already up-to-date!\n",
      "[nltk_data] Downloading package stopwords to\n",
      "[nltk_data]     C:\\Users\\Sleepyard\\AppData\\Roaming\\nltk_data...\n",
      "[nltk_data]   Package stopwords is already up-to-date!\n",
      "[nltk_data] Downloading package wordnet to\n",
      "[nltk_data]     C:\\Users\\Sleepyard\\AppData\\Roaming\\nltk_data...\n",
      "[nltk_data]   Package wordnet is already up-to-date!\n"
     ]
    }
   ],
   "source": [
    "# Import necessary packages\n",
    "import re\n",
    "import os\n",
    "import json\n",
    "import pickle\n",
    "import logging\n",
    "\n",
    "logging.basicConfig(\n",
    "    filename='info.log',\n",
    "    level=logging.INFO,\n",
    "    format='%(asctime)s - %(levelname)s - %(message)s',\n",
    "    datefmt='%Y-%m-%d %H:%M:%S'\n",
    ")\n",
    "\n",
    "from os.path import join\n",
    "import numpy as np\n",
    "import nltk\n",
    "from nltk import bigrams\n",
    "from nltk.tokenize import word_tokenize\n",
    "from nltk.tag import pos_tag\n",
    "from nltk.corpus import stopwords\n",
    "from nltk.stem import WordNetLemmatizer\n",
    "from nltk.collections import Counter\n",
    "\n",
    "nltk.download('punkt')\n",
    "nltk.download('stopwords')\n",
    "nltk.download('wordnet')\n",
    "\n",
    "import matplotlib.pyplot as plt\n",
    "from sklearn.linear_model import LogisticRegression\n",
    "from sklearn.svm import SVC\n",
    "from sklearn.naive_bayes import MultinomialNB\n",
    "from sklearn.metrics import f1_score\n",
    "\n",
    "import torch\n",
    "import torch.nn as nn\n",
    "import torch.optim as optim\n",
    "import torchtext\n",
    "from torch.utils.data import Dataset, DataLoader\n",
    "import transformers"
   ]
  },
  {
   "cell_type": "code",
   "execution_count": 31,
   "metadata": {},
   "outputs": [],
   "source": [
    "# Define test sets\n",
    "trainset = 'twitter-training-data.txt'\n",
    "devset = 'twitter-dev-data.txt'\n",
    "testsets = ['twitter-test1.txt', 'twitter-test2.txt', 'twitter-test3.txt']\n",
    "glove_file = 'glove.6B.100d.txt'"
   ]
  },
  {
   "cell_type": "code",
   "execution_count": 32,
   "metadata": {},
   "outputs": [],
   "source": [
    "# Skeleton: Evaluation code for the test sets\n",
    "def read_test(testset):\n",
    "    '''\n",
    "    readin the testset and return a dictionary\n",
    "    :param testset: str, the file name of the testset to compare\n",
    "    '''\n",
    "    id_gts = {}\n",
    "    with open(testset, 'r', encoding='utf8') as fh:\n",
    "        for line in fh:\n",
    "            fields = line.split('\\t')\n",
    "            tweetid = fields[0]\n",
    "            gt = fields[1]\n",
    "\n",
    "            id_gts[tweetid] = gt\n",
    "\n",
    "    return id_gts\n",
    "\n",
    "\n",
    "def confusion(id_preds, testset, classifier):\n",
    "    '''\n",
    "    print the confusion matrix of {'positive', 'negative'} between preds and testset\n",
    "    :param id_preds: a dictionary of predictions formated as {<tweetid>:<sentiment>, ... }\n",
    "    :param testset: str, the file name of the testset to compare\n",
    "    :classifier: str, the name of the classifier\n",
    "    '''\n",
    "    id_gts = read_test(testset)\n",
    "\n",
    "    gts = []\n",
    "    for m, c1 in id_gts.items():\n",
    "        if c1 not in gts:\n",
    "            gts.append(c1)\n",
    "\n",
    "    gts = ['positive', 'negative', 'neutral']\n",
    "\n",
    "    conf = {}\n",
    "    for c1 in gts:\n",
    "        conf[c1] = {}\n",
    "        for c2 in gts:\n",
    "            conf[c1][c2] = 0\n",
    "\n",
    "    for tweetid, gt in id_gts.items():\n",
    "        if tweetid in id_preds:\n",
    "            pred = id_preds[tweetid]\n",
    "        else:\n",
    "            pred = 'neutral'\n",
    "        conf[pred][gt] += 1\n",
    "\n",
    "    print(''.ljust(12) + '  '.join(gts))\n",
    "\n",
    "    for c1 in gts:\n",
    "        print(c1.ljust(12), end='')\n",
    "        for c2 in gts:\n",
    "            if sum(conf[c1].values()) > 0:\n",
    "                print('%.3f     ' % (conf[c1][c2] / float(sum(conf[c1].values()))), end='')\n",
    "            else:\n",
    "                print('0.000     ', end='')\n",
    "        print('')\n",
    "\n",
    "    print('')\n",
    "\n",
    "\n",
    "def evaluate(id_preds, testset, classifier):\n",
    "    '''\n",
    "    print the macro-F1 score of {'positive', 'netative'} between preds and testset\n",
    "    :param id_preds: a dictionary of predictions formated as {<tweetid>:<sentiment>, ... }\n",
    "    :param testset: str, the file name of the testset to compare\n",
    "    :classifier: str, the name of the classifier\n",
    "    '''\n",
    "    id_gts = read_test(testset)\n",
    "\n",
    "    f1_by_class = {}\n",
    "    for gt in ['positive', 'negative', 'neutral']:\n",
    "        f1_by_class[gt] = {'tp': 0, 'fp': 0, 'tn': 0, 'fn': 0}\n",
    "\n",
    "    catf1s = {}\n",
    "\n",
    "    ok = 0\n",
    "    for tweetid, gt in id_gts.items():\n",
    "        if tweetid in id_preds:\n",
    "            pred = id_preds[tweetid]\n",
    "        else:\n",
    "            pred = 'neutral'\n",
    "\n",
    "        if gt == pred:\n",
    "            ok += 1\n",
    "            f1_by_class[gt]['tp'] += 1\n",
    "        else:\n",
    "            f1_by_class[gt]['fn'] += 1\n",
    "            f1_by_class[pred]['fp'] += 1\n",
    "\n",
    "    catcount = 0\n",
    "    itemcount = 0\n",
    "    macro = {'p': 0, 'r': 0, 'f1': 0}\n",
    "    micro = {'p': 0, 'r': 0, 'f1': 0}\n",
    "    semevalmacro = {'p': 0, 'r': 0, 'f1': 0}\n",
    "\n",
    "    microtp = 0\n",
    "    microfp = 0\n",
    "    microtn = 0\n",
    "    microfn = 0\n",
    "    for cat, acc in f1_by_class.items():\n",
    "        catcount += 1\n",
    "\n",
    "        microtp += acc['tp']\n",
    "        microfp += acc['fp']\n",
    "        microtn += acc['tn']\n",
    "        microfn += acc['fn']\n",
    "\n",
    "        p = 0\n",
    "        if (acc['tp'] + acc['fp']) > 0:\n",
    "            p = float(acc['tp']) / (acc['tp'] + acc['fp'])\n",
    "\n",
    "        r = 0\n",
    "        if (acc['tp'] + acc['fn']) > 0:\n",
    "            r = float(acc['tp']) / (acc['tp'] + acc['fn'])\n",
    "\n",
    "        f1 = 0\n",
    "        if (p + r) > 0:\n",
    "            f1 = 2 * p * r / (p + r)\n",
    "\n",
    "        catf1s[cat] = f1\n",
    "\n",
    "        n = acc['tp'] + acc['fn']\n",
    "\n",
    "        macro['p'] += p\n",
    "        macro['r'] += r\n",
    "        macro['f1'] += f1\n",
    "\n",
    "        if cat in ['positive', 'negative']:\n",
    "            semevalmacro['p'] += p\n",
    "            semevalmacro['r'] += r\n",
    "            semevalmacro['f1'] += f1\n",
    "\n",
    "        itemcount += n\n",
    "\n",
    "    micro['p'] = float(microtp) / float(microtp + microfp)\n",
    "    micro['r'] = float(microtp) / float(microtp + microfn)\n",
    "    micro['f1'] = 2 * float(micro['p']) * micro['r'] / float(micro['p'] + micro['r'])\n",
    "\n",
    "    semevalmacrof1 = semevalmacro['f1'] / 2\n",
    "\n",
    "    print(testset + ' (' + classifier + ')')\n",
    "    avgrec = sum(float(acc['tp'] / (acc['tp'] + acc['fn'])) for _, acc in f1_by_class.items()) / 3\n",
    "    print('Accuracy: %.3f,' % float(ok / len(id_gts)),\n",
    "        'Average Recall: %.3f,' % avgrec,\n",
    "        'Macro F1: %.3f' % semevalmacrof1\n",
    "    )"
   ]
  },
  {
   "cell_type": "code",
   "execution_count": 33,
   "metadata": {},
   "outputs": [],
   "source": [
    "# The preprocessor\n",
    "def preprocess(tweet):\n",
    "    # Remove RT (retweet)\n",
    "    tweet = re.sub(r\"\\bRT\\b\", \"\", tweet)\n",
    "    # Replace consecutive dots (...) with whitespace\n",
    "    tweet = re.sub(r\"[.\\-']{2,}\", \" \", tweet)\n",
    "    # Covert to lower case\n",
    "    tweet = tweet.lower()\n",
    "    # Remove URLs\n",
    "    tweet = re.sub((r\"((https?|ftp)://)?\"\n",
    "            r\"[a-z0-9\\-._~:/?#\\[\\]@!$&'()*+,;=%]+\"\n",
    "            r\"\\.[a-z]{2,}\"\n",
    "            r\"[a-z0-9\\-._~:/?#\\[\\]@!$&'()*+,;=%]*\"\n",
    "        ), \"\", tweet)\n",
    "    # Remove user Mentions\n",
    "    tweet = re.sub(r\"@[\\S]+\", \"\", tweet)\n",
    "    # Remove hashtags\n",
    "    tweet = re.sub(r\"#[\\S]+\", \"\", tweet)\n",
    "    # Remove non-alphabet symbols (keep .'-:,)\n",
    "    tweet = re.sub(r\"[^a-z0-9.'\\-:,/\\s]\", \"\", tweet)\n",
    "    # Keep .'- if they are inside a word (between letters)\n",
    "    tweet = re.sub(r\"(?<![a-z])[.\\-']|[.\\-'](?![a-z])\", \" \", tweet)\n",
    "    # Keep :, if thry are inside a number (between digits)\n",
    "    tweet = re.sub(r\"(?<![0-9])[:,/]|[:,/](?![0-9])\", \" \", tweet)\n",
    "    # Replace multiple whitespaces with one\n",
    "    tweet = re.sub(r\"\\s+\", \" \", tweet)\n",
    "    # Remove whitespaces at the beginning or end\n",
    "    tweet = tweet.strip()\n",
    "    return tweet"
   ]
  },
  {
   "cell_type": "code",
   "execution_count": 34,
   "metadata": {},
   "outputs": [],
   "source": [
    "# Load training set, dev set and testing set\n",
    "tweetids = {}\n",
    "tweetgts = {}\n",
    "tweets = {}\n",
    "\n",
    "for dataset in [trainset, devset] + testsets:\n",
    "    tweets[dataset] = []\n",
    "    tweetids[dataset] = []\n",
    "    tweetgts[dataset] = []\n",
    "\n",
    "    # write code to read in the datasets here\n",
    "    dataset_path = join('semeval-tweets', dataset)\n",
    "    with open(dataset_path, 'r', encoding='utf-8') as fh:\n",
    "        for line in fh:\n",
    "            fields = line.strip().split('\\t')\n",
    "            tweet_id = fields[0]\n",
    "            sentiment = fields[1]\n",
    "            tweet_text = preprocess(fields[2])\n",
    "\n",
    "            tweetids[dataset].append(tweet_id)\n",
    "            tweetgts[dataset].append(sentiment)\n",
    "            tweets[dataset].append(tweet_text)"
   ]
  },
  {
   "cell_type": "markdown",
   "metadata": {},
   "source": [
    "##### Support Vector Machine (SVM)"
   ]
  },
  {
   "cell_type": "code",
   "execution_count": null,
   "metadata": {},
   "outputs": [
    {
     "data": {
      "text/html": [
       "<style>#sk-container-id-3 {color: black;}#sk-container-id-3 pre{padding: 0;}#sk-container-id-3 div.sk-toggleable {background-color: white;}#sk-container-id-3 label.sk-toggleable__label {cursor: pointer;display: block;width: 100%;margin-bottom: 0;padding: 0.3em;box-sizing: border-box;text-align: center;}#sk-container-id-3 label.sk-toggleable__label-arrow:before {content: \"▸\";float: left;margin-right: 0.25em;color: #696969;}#sk-container-id-3 label.sk-toggleable__label-arrow:hover:before {color: black;}#sk-container-id-3 div.sk-estimator:hover label.sk-toggleable__label-arrow:before {color: black;}#sk-container-id-3 div.sk-toggleable__content {max-height: 0;max-width: 0;overflow: hidden;text-align: left;background-color: #f0f8ff;}#sk-container-id-3 div.sk-toggleable__content pre {margin: 0.2em;color: black;border-radius: 0.25em;background-color: #f0f8ff;}#sk-container-id-3 input.sk-toggleable__control:checked~div.sk-toggleable__content {max-height: 200px;max-width: 100%;overflow: auto;}#sk-container-id-3 input.sk-toggleable__control:checked~label.sk-toggleable__label-arrow:before {content: \"▾\";}#sk-container-id-3 div.sk-estimator input.sk-toggleable__control:checked~label.sk-toggleable__label {background-color: #d4ebff;}#sk-container-id-3 div.sk-label input.sk-toggleable__control:checked~label.sk-toggleable__label {background-color: #d4ebff;}#sk-container-id-3 input.sk-hidden--visually {border: 0;clip: rect(1px 1px 1px 1px);clip: rect(1px, 1px, 1px, 1px);height: 1px;margin: -1px;overflow: hidden;padding: 0;position: absolute;width: 1px;}#sk-container-id-3 div.sk-estimator {font-family: monospace;background-color: #f0f8ff;border: 1px dotted black;border-radius: 0.25em;box-sizing: border-box;margin-bottom: 0.5em;}#sk-container-id-3 div.sk-estimator:hover {background-color: #d4ebff;}#sk-container-id-3 div.sk-parallel-item::after {content: \"\";width: 100%;border-bottom: 1px solid gray;flex-grow: 1;}#sk-container-id-3 div.sk-label:hover label.sk-toggleable__label {background-color: #d4ebff;}#sk-container-id-3 div.sk-serial::before {content: \"\";position: absolute;border-left: 1px solid gray;box-sizing: border-box;top: 0;bottom: 0;left: 50%;z-index: 0;}#sk-container-id-3 div.sk-serial {display: flex;flex-direction: column;align-items: center;background-color: white;padding-right: 0.2em;padding-left: 0.2em;position: relative;}#sk-container-id-3 div.sk-item {position: relative;z-index: 1;}#sk-container-id-3 div.sk-parallel {display: flex;align-items: stretch;justify-content: center;background-color: white;position: relative;}#sk-container-id-3 div.sk-item::before, #sk-container-id-3 div.sk-parallel-item::before {content: \"\";position: absolute;border-left: 1px solid gray;box-sizing: border-box;top: 0;bottom: 0;left: 50%;z-index: -1;}#sk-container-id-3 div.sk-parallel-item {display: flex;flex-direction: column;z-index: 1;position: relative;background-color: white;}#sk-container-id-3 div.sk-parallel-item:first-child::after {align-self: flex-end;width: 50%;}#sk-container-id-3 div.sk-parallel-item:last-child::after {align-self: flex-start;width: 50%;}#sk-container-id-3 div.sk-parallel-item:only-child::after {width: 0;}#sk-container-id-3 div.sk-dashed-wrapped {border: 1px dashed gray;margin: 0 0.4em 0.5em 0.4em;box-sizing: border-box;padding-bottom: 0.4em;background-color: white;}#sk-container-id-3 div.sk-label label {font-family: monospace;font-weight: bold;display: inline-block;line-height: 1.2em;}#sk-container-id-3 div.sk-label-container {text-align: center;}#sk-container-id-3 div.sk-container {/* jupyter's `normalize.less` sets `[hidden] { display: none; }` but bootstrap.min.css set `[hidden] { display: none !important; }` so we also need the `!important` here to be able to override the default hidden behavior on the sphinx rendered scikit-learn.org. See: https://github.com/scikit-learn/scikit-learn/issues/21755 */display: inline-block !important;position: relative;}#sk-container-id-3 div.sk-text-repr-fallback {display: none;}</style><div id=\"sk-container-id-3\" class=\"sk-top-container\"><div class=\"sk-text-repr-fallback\"><pre>SVC(kernel=&#x27;linear&#x27;)</pre><b>In a Jupyter environment, please rerun this cell to show the HTML representation or trust the notebook. <br />On GitHub, the HTML representation is unable to render, please try loading this page with nbviewer.org.</b></div><div class=\"sk-container\" hidden><div class=\"sk-item\"><div class=\"sk-estimator sk-toggleable\"><input class=\"sk-toggleable__control sk-hidden--visually\" id=\"sk-estimator-id-3\" type=\"checkbox\" checked><label for=\"sk-estimator-id-3\" class=\"sk-toggleable__label sk-toggleable__label-arrow\">SVC</label><div class=\"sk-toggleable__content\"><pre>SVC(kernel=&#x27;linear&#x27;)</pre></div></div></div></div></div>"
      ],
      "text/plain": [
       "SVC(kernel='linear')"
      ]
     },
     "metadata": {},
     "output_type": "display_data"
    }
   ],
   "source": [
    "# # Somehow took 7 hours to converge\n",
    "# svm_linear_bow = SVC(kernel='linear')\n",
    "# svm_linear_bow.fit(tweetbow[trainset], tweetgts[trainset])"
   ]
  },
  {
   "cell_type": "code",
   "execution_count": null,
   "metadata": {},
   "outputs": [
    {
     "name": "stdout",
     "output_type": "stream",
     "text": [
      "            positive  negative  neutral\n",
      "positive    0.695     0.044     0.261     \n",
      "negative    0.106     0.598     0.296     \n",
      "neutral     0.227     0.157     0.616     \n",
      "\n",
      "semeval-tweets\\twitter-dev-data.txt (bow-Linear SVM)\n",
      "Accuracy: 0.637, Average Recall: 0.603, Macro F1: 0.588\n"
     ]
    }
   ],
   "source": [
    "# # SVM with linear kernel on bag-of-word features\n",
    "# id_preds = {}\n",
    "# ids = tweetids[devset]\n",
    "# preds = svm_linear_bow.predict(tweetbow[devset])\n",
    "# for i in range(len(ids)):\n",
    "#     id_preds[ids[i]] = preds[i]\n",
    "            \n",
    "# devset_name = devset\n",
    "# devset_path = join('semeval-tweets', devset_name)\n",
    "# confusion(id_preds, devset_path, \"SVM\")\n",
    "# evaluate(id_preds, devset_path, \"bow\" + '-' + \"Linear SVM\")"
   ]
  },
  {
   "cell_type": "code",
   "execution_count": null,
   "metadata": {},
   "outputs": [
    {
     "data": {
      "text/html": [
       "<style>#sk-container-id-4 {color: black;}#sk-container-id-4 pre{padding: 0;}#sk-container-id-4 div.sk-toggleable {background-color: white;}#sk-container-id-4 label.sk-toggleable__label {cursor: pointer;display: block;width: 100%;margin-bottom: 0;padding: 0.3em;box-sizing: border-box;text-align: center;}#sk-container-id-4 label.sk-toggleable__label-arrow:before {content: \"▸\";float: left;margin-right: 0.25em;color: #696969;}#sk-container-id-4 label.sk-toggleable__label-arrow:hover:before {color: black;}#sk-container-id-4 div.sk-estimator:hover label.sk-toggleable__label-arrow:before {color: black;}#sk-container-id-4 div.sk-toggleable__content {max-height: 0;max-width: 0;overflow: hidden;text-align: left;background-color: #f0f8ff;}#sk-container-id-4 div.sk-toggleable__content pre {margin: 0.2em;color: black;border-radius: 0.25em;background-color: #f0f8ff;}#sk-container-id-4 input.sk-toggleable__control:checked~div.sk-toggleable__content {max-height: 200px;max-width: 100%;overflow: auto;}#sk-container-id-4 input.sk-toggleable__control:checked~label.sk-toggleable__label-arrow:before {content: \"▾\";}#sk-container-id-4 div.sk-estimator input.sk-toggleable__control:checked~label.sk-toggleable__label {background-color: #d4ebff;}#sk-container-id-4 div.sk-label input.sk-toggleable__control:checked~label.sk-toggleable__label {background-color: #d4ebff;}#sk-container-id-4 input.sk-hidden--visually {border: 0;clip: rect(1px 1px 1px 1px);clip: rect(1px, 1px, 1px, 1px);height: 1px;margin: -1px;overflow: hidden;padding: 0;position: absolute;width: 1px;}#sk-container-id-4 div.sk-estimator {font-family: monospace;background-color: #f0f8ff;border: 1px dotted black;border-radius: 0.25em;box-sizing: border-box;margin-bottom: 0.5em;}#sk-container-id-4 div.sk-estimator:hover {background-color: #d4ebff;}#sk-container-id-4 div.sk-parallel-item::after {content: \"\";width: 100%;border-bottom: 1px solid gray;flex-grow: 1;}#sk-container-id-4 div.sk-label:hover label.sk-toggleable__label {background-color: #d4ebff;}#sk-container-id-4 div.sk-serial::before {content: \"\";position: absolute;border-left: 1px solid gray;box-sizing: border-box;top: 0;bottom: 0;left: 50%;z-index: 0;}#sk-container-id-4 div.sk-serial {display: flex;flex-direction: column;align-items: center;background-color: white;padding-right: 0.2em;padding-left: 0.2em;position: relative;}#sk-container-id-4 div.sk-item {position: relative;z-index: 1;}#sk-container-id-4 div.sk-parallel {display: flex;align-items: stretch;justify-content: center;background-color: white;position: relative;}#sk-container-id-4 div.sk-item::before, #sk-container-id-4 div.sk-parallel-item::before {content: \"\";position: absolute;border-left: 1px solid gray;box-sizing: border-box;top: 0;bottom: 0;left: 50%;z-index: -1;}#sk-container-id-4 div.sk-parallel-item {display: flex;flex-direction: column;z-index: 1;position: relative;background-color: white;}#sk-container-id-4 div.sk-parallel-item:first-child::after {align-self: flex-end;width: 50%;}#sk-container-id-4 div.sk-parallel-item:last-child::after {align-self: flex-start;width: 50%;}#sk-container-id-4 div.sk-parallel-item:only-child::after {width: 0;}#sk-container-id-4 div.sk-dashed-wrapped {border: 1px dashed gray;margin: 0 0.4em 0.5em 0.4em;box-sizing: border-box;padding-bottom: 0.4em;background-color: white;}#sk-container-id-4 div.sk-label label {font-family: monospace;font-weight: bold;display: inline-block;line-height: 1.2em;}#sk-container-id-4 div.sk-label-container {text-align: center;}#sk-container-id-4 div.sk-container {/* jupyter's `normalize.less` sets `[hidden] { display: none; }` but bootstrap.min.css set `[hidden] { display: none !important; }` so we also need the `!important` here to be able to override the default hidden behavior on the sphinx rendered scikit-learn.org. See: https://github.com/scikit-learn/scikit-learn/issues/21755 */display: inline-block !important;position: relative;}#sk-container-id-4 div.sk-text-repr-fallback {display: none;}</style><div id=\"sk-container-id-4\" class=\"sk-top-container\"><div class=\"sk-text-repr-fallback\"><pre>SVC(kernel=&#x27;poly&#x27;)</pre><b>In a Jupyter environment, please rerun this cell to show the HTML representation or trust the notebook. <br />On GitHub, the HTML representation is unable to render, please try loading this page with nbviewer.org.</b></div><div class=\"sk-container\" hidden><div class=\"sk-item\"><div class=\"sk-estimator sk-toggleable\"><input class=\"sk-toggleable__control sk-hidden--visually\" id=\"sk-estimator-id-4\" type=\"checkbox\" checked><label for=\"sk-estimator-id-4\" class=\"sk-toggleable__label sk-toggleable__label-arrow\">SVC</label><div class=\"sk-toggleable__content\"><pre>SVC(kernel=&#x27;poly&#x27;)</pre></div></div></div></div></div>"
      ],
      "text/plain": [
       "SVC(kernel='poly')"
      ]
     },
     "metadata": {},
     "output_type": "display_data"
    }
   ],
   "source": [
    "# # Took another 7 hours to run\n",
    "# svm_poly_bow = SVC(kernel='poly')\n",
    "# svm_poly_bow.fit(tweetbow[trainset], tweetgts[trainset])"
   ]
  },
  {
   "cell_type": "code",
   "execution_count": null,
   "metadata": {},
   "outputs": [
    {
     "name": "stdout",
     "output_type": "stream",
     "text": [
      "            positive  negative  neutral\n",
      "positive    0.745     0.034     0.221     \n",
      "negative    0.146     0.625     0.229     \n",
      "neutral     0.280     0.207     0.513     \n",
      "\n",
      "semeval-tweets\\twitter-dev-data.txt (bow-Polynomial SVM)\n",
      "Accuracy: 0.553, Average Recall: 0.443, Macro F1: 0.304\n"
     ]
    }
   ],
   "source": [
    "# # SVM with polynomial kernel on bag-of-word features\n",
    "# id_preds = {}\n",
    "# ids = tweetids[devset]\n",
    "# preds = svm_poly_bow.predict(tweetbow[devset])\n",
    "# for i in range(len(ids)):\n",
    "#     id_preds[ids[i]] = preds[i]\n",
    "            \n",
    "# devset_name = devset\n",
    "# devset_path = join('semeval-tweets', devset_name)\n",
    "# confusion(id_preds, devset_path, \"SVM\")\n",
    "# evaluate(id_preds, devset_path, \"bow\" + '-' + \"Polynomial SVM\")"
   ]
  },
  {
   "cell_type": "code",
   "execution_count": null,
   "metadata": {},
   "outputs": [
    {
     "data": {
      "text/html": [
       "<style>#sk-container-id-5 {color: black;}#sk-container-id-5 pre{padding: 0;}#sk-container-id-5 div.sk-toggleable {background-color: white;}#sk-container-id-5 label.sk-toggleable__label {cursor: pointer;display: block;width: 100%;margin-bottom: 0;padding: 0.3em;box-sizing: border-box;text-align: center;}#sk-container-id-5 label.sk-toggleable__label-arrow:before {content: \"▸\";float: left;margin-right: 0.25em;color: #696969;}#sk-container-id-5 label.sk-toggleable__label-arrow:hover:before {color: black;}#sk-container-id-5 div.sk-estimator:hover label.sk-toggleable__label-arrow:before {color: black;}#sk-container-id-5 div.sk-toggleable__content {max-height: 0;max-width: 0;overflow: hidden;text-align: left;background-color: #f0f8ff;}#sk-container-id-5 div.sk-toggleable__content pre {margin: 0.2em;color: black;border-radius: 0.25em;background-color: #f0f8ff;}#sk-container-id-5 input.sk-toggleable__control:checked~div.sk-toggleable__content {max-height: 200px;max-width: 100%;overflow: auto;}#sk-container-id-5 input.sk-toggleable__control:checked~label.sk-toggleable__label-arrow:before {content: \"▾\";}#sk-container-id-5 div.sk-estimator input.sk-toggleable__control:checked~label.sk-toggleable__label {background-color: #d4ebff;}#sk-container-id-5 div.sk-label input.sk-toggleable__control:checked~label.sk-toggleable__label {background-color: #d4ebff;}#sk-container-id-5 input.sk-hidden--visually {border: 0;clip: rect(1px 1px 1px 1px);clip: rect(1px, 1px, 1px, 1px);height: 1px;margin: -1px;overflow: hidden;padding: 0;position: absolute;width: 1px;}#sk-container-id-5 div.sk-estimator {font-family: monospace;background-color: #f0f8ff;border: 1px dotted black;border-radius: 0.25em;box-sizing: border-box;margin-bottom: 0.5em;}#sk-container-id-5 div.sk-estimator:hover {background-color: #d4ebff;}#sk-container-id-5 div.sk-parallel-item::after {content: \"\";width: 100%;border-bottom: 1px solid gray;flex-grow: 1;}#sk-container-id-5 div.sk-label:hover label.sk-toggleable__label {background-color: #d4ebff;}#sk-container-id-5 div.sk-serial::before {content: \"\";position: absolute;border-left: 1px solid gray;box-sizing: border-box;top: 0;bottom: 0;left: 50%;z-index: 0;}#sk-container-id-5 div.sk-serial {display: flex;flex-direction: column;align-items: center;background-color: white;padding-right: 0.2em;padding-left: 0.2em;position: relative;}#sk-container-id-5 div.sk-item {position: relative;z-index: 1;}#sk-container-id-5 div.sk-parallel {display: flex;align-items: stretch;justify-content: center;background-color: white;position: relative;}#sk-container-id-5 div.sk-item::before, #sk-container-id-5 div.sk-parallel-item::before {content: \"\";position: absolute;border-left: 1px solid gray;box-sizing: border-box;top: 0;bottom: 0;left: 50%;z-index: -1;}#sk-container-id-5 div.sk-parallel-item {display: flex;flex-direction: column;z-index: 1;position: relative;background-color: white;}#sk-container-id-5 div.sk-parallel-item:first-child::after {align-self: flex-end;width: 50%;}#sk-container-id-5 div.sk-parallel-item:last-child::after {align-self: flex-start;width: 50%;}#sk-container-id-5 div.sk-parallel-item:only-child::after {width: 0;}#sk-container-id-5 div.sk-dashed-wrapped {border: 1px dashed gray;margin: 0 0.4em 0.5em 0.4em;box-sizing: border-box;padding-bottom: 0.4em;background-color: white;}#sk-container-id-5 div.sk-label label {font-family: monospace;font-weight: bold;display: inline-block;line-height: 1.2em;}#sk-container-id-5 div.sk-label-container {text-align: center;}#sk-container-id-5 div.sk-container {/* jupyter's `normalize.less` sets `[hidden] { display: none; }` but bootstrap.min.css set `[hidden] { display: none !important; }` so we also need the `!important` here to be able to override the default hidden behavior on the sphinx rendered scikit-learn.org. See: https://github.com/scikit-learn/scikit-learn/issues/21755 */display: inline-block !important;position: relative;}#sk-container-id-5 div.sk-text-repr-fallback {display: none;}</style><div id=\"sk-container-id-5\" class=\"sk-top-container\"><div class=\"sk-text-repr-fallback\"><pre>SVC()</pre><b>In a Jupyter environment, please rerun this cell to show the HTML representation or trust the notebook. <br />On GitHub, the HTML representation is unable to render, please try loading this page with nbviewer.org.</b></div><div class=\"sk-container\" hidden><div class=\"sk-item\"><div class=\"sk-estimator sk-toggleable\"><input class=\"sk-toggleable__control sk-hidden--visually\" id=\"sk-estimator-id-5\" type=\"checkbox\" checked><label for=\"sk-estimator-id-5\" class=\"sk-toggleable__label sk-toggleable__label-arrow\">SVC</label><div class=\"sk-toggleable__content\"><pre>SVC()</pre></div></div></div></div></div>"
      ],
      "text/plain": [
       "SVC()"
      ]
     },
     "metadata": {},
     "output_type": "display_data"
    }
   ],
   "source": [
    "# # Takes more than 1000 iterations and 5.5 hours to run\n",
    "# svm_rbf_bow = SVC(kernel='rbf')\n",
    "# svm_rbf_bow.fit(tweetbow[trainset], tweetgts[trainset])"
   ]
  },
  {
   "cell_type": "code",
   "execution_count": null,
   "metadata": {},
   "outputs": [
    {
     "name": "stdout",
     "output_type": "stream",
     "text": [
      "            positive  negative  neutral\n",
      "positive    0.755     0.035     0.210     \n",
      "negative    0.114     0.705     0.181     \n",
      "neutral     0.217     0.176     0.608     \n",
      "\n",
      "semeval-tweets\\twitter-dev-data.txt (bow-RBF SVM)\n",
      "Accuracy: 0.656, Average Recall: 0.592, Macro F1: 0.565\n"
     ]
    }
   ],
   "source": [
    "# # SVM with RBF kernel on bag-of-word features\n",
    "# id_preds = {}\n",
    "# ids = tweetids[devset]\n",
    "# preds = svm_rbf_bow.predict(tweetbow[devset])\n",
    "# for i in range(len(ids)):\n",
    "#     id_preds[ids[i]] = preds[i]\n",
    "            \n",
    "# devset_name = devset\n",
    "# devset_path = join('semeval-tweets', devset_name)\n",
    "# confusion(id_preds, devset_path, \"SVM\")\n",
    "# evaluate(id_preds, devset_path, \"bow\" + '-' + \"RBF SVM\")"
   ]
  },
  {
   "cell_type": "code",
   "execution_count": null,
   "metadata": {},
   "outputs": [],
   "source": [
    "# The linear model is \"good enough\", the two non-linear ones could be overfitting\n",
    "# But even the linear model is too slow to use: it takes too long to predict,\n",
    "# for example, going through one dev/test set would take 5 minutes.\n",
    "# Besides, the pickle file ended up to be larger than 1GB,\n",
    "# so I decided to not use SVM for my final testing and not submit it"
   ]
  },
  {
   "cell_type": "markdown",
   "metadata": {},
   "source": [
    "##### Transformer"
   ]
  },
  {
   "cell_type": "code",
   "execution_count": 60,
   "metadata": {},
   "outputs": [],
   "source": [
    "transformer_name = \"bert-base-uncased\"\n",
    "tokenizer = transformers.AutoTokenizer.from_pretrained(transformer_name)\n",
    "transformer = transformers.AutoModel.from_pretrained(transformer_name)"
   ]
  },
  {
   "cell_type": "code",
   "execution_count": 61,
   "metadata": {},
   "outputs": [
    {
     "name": "stdout",
     "output_type": "stream",
     "text": [
      "Average sentence length (raw) on twitter-training-data.txt: 20.248974523846478\n",
      "Average sentence length (raw) on twitter-dev-data.txt: 20.1135\n",
      "Average sentence length (raw) on twitter-test1.txt: 21.706881903143586\n",
      "Average sentence length (raw) on twitter-test2.txt: 21.626011872638962\n",
      "Average sentence length (raw) on twitter-test3.txt: 21.44766708701135\n"
     ]
    }
   ],
   "source": [
    "# Calculate the average length of raw tweet from each dataset\n",
    "for dataset in [trainset, devset] + testsets:\n",
    "    total_length = 0\n",
    "    total_tweets = len(tweets[dataset])\n",
    "    \n",
    "    for tweet_raw in tweets[dataset]:\n",
    "        total_length += len(tokenizer.tokenize(tweet_raw))\n",
    "    \n",
    "    average_length = total_length / total_tweets\n",
    "    print(f\"Average sentence length (raw) on {dataset}: {average_length}\")"
   ]
  },
  {
   "cell_type": "code",
   "execution_count": 62,
   "metadata": {},
   "outputs": [
    {
     "name": "stdout",
     "output_type": "stream",
     "text": [
      "0.9995787233099044 of tweets on twitter-training-data.txt are shorter than 40 tokens\n",
      "0.999 of tweets on twitter-dev-data.txt are shorter than 40 tokens\n",
      "0.9994335882186349 of tweets on twitter-test1.txt are shorter than 40 tokens\n",
      "0.9994603345925526 of tweets on twitter-test2.txt are shorter than 40 tokens\n",
      "1.0 of tweets on twitter-test3.txt are shorter than 40 tokens\n"
     ]
    }
   ],
   "source": [
    "# The average length is around 20-21, let's see how many of the tweets are shorter than 40\n",
    "# Most of the tweets are included here so we may just set max_length to 40\n",
    "for dataset in [trainset, devset] + testsets:\n",
    "    shorter_than = 0\n",
    "    total_tweets = len(tweets[dataset])\n",
    "    \n",
    "    for tweet_raw in tweets[dataset]:\n",
    "        if len(tokenizer.tokenize(tweet_raw)) <= 40:\n",
    "            shorter_than += 1\n",
    "    \n",
    "    percentage = shorter_than / total_tweets\n",
    "    print(f\"{percentage} of tweets on {dataset} are shorter than 40 tokens\")"
   ]
  },
  {
   "cell_type": "code",
   "execution_count": 63,
   "metadata": {},
   "outputs": [],
   "source": [
    "# Customized Dataset reader FOR BERT\n",
    "class CustomDatasetBERT(Dataset):\n",
    "    def __init__(self, dataset):\n",
    "        self.dataset = dataset\n",
    "        self.tweetgts = tweetgts[self.dataset]\n",
    "        self.tweets = tweets[self.dataset]\n",
    "\n",
    "    def __len__(self):\n",
    "        return len(self.tweetgts)\n",
    "\n",
    "    def __getitem__(self, idx):\n",
    "        gts = self.tweetgts[idx]\n",
    "        # Map labels to integer values\n",
    "        if gts == 'neutral':\n",
    "            label = torch.tensor(0)\n",
    "        elif gts == 'negative':\n",
    "            label = torch.tensor(1)\n",
    "        elif gts == 'positive':\n",
    "            label = torch.tensor(2)\n",
    "        else:\n",
    "            label = torch.tensor(0)\n",
    "        # Pad the vector representation of tweets to length 40 with (index for) <pad>\n",
    "        encoded_input = tokenizer(self.tweets[idx], padding='max_length', truncation=True, max_length=40)\n",
    "        embed = torch.tensor(encoded_input['input_ids'], dtype=torch.int64)\n",
    "        mask = torch.tensor(encoded_input['attention_mask'], dtype=torch.int64)\n",
    "        return embed, mask, label"
   ]
  },
  {
   "cell_type": "code",
   "execution_count": 64,
   "metadata": {},
   "outputs": [],
   "source": [
    "# Loading all the datasets\n",
    "train_datasetBERT = CustomDatasetBERT(trainset)\n",
    "dev_datasetBERT = CustomDatasetBERT(devset)\n",
    "\n",
    "test_datasetsBERT = {}\n",
    "for testset in testsets:\n",
    "    test_datasetsBERT[testset] = CustomDatasetBERT(testset)"
   ]
  },
  {
   "cell_type": "code",
   "execution_count": 65,
   "metadata": {},
   "outputs": [],
   "source": [
    "batch_sizeBERT = 32\n",
    "\n",
    "train_loaderBERT = DataLoader(dataset=train_datasetBERT, batch_size=batch_sizeBERT, shuffle=True)\n",
    "dev_loaderBERT = DataLoader(dataset=dev_datasetBERT, batch_size=batch_sizeBERT)\n",
    "\n",
    "test_loadersBERT = {}\n",
    "for testset in testsets:\n",
    "    test_loadersBERT[testset] = DataLoader(dataset=test_datasetsBERT[testset], batch_size=batch_sizeBERT)"
   ]
  },
  {
   "cell_type": "code",
   "execution_count": 66,
   "metadata": {},
   "outputs": [],
   "source": [
    "class SentimentTransformer(nn.Module):\n",
    "    def __init__(self, transformer, output_dim, freeze):\n",
    "        super().__init__()\n",
    "        self.transformer = transformer\n",
    "        hidden_dim = transformer.config.hidden_size\n",
    "        self.fc = nn.Linear(hidden_dim, output_dim)\n",
    "        if freeze:\n",
    "            for param in self.transformer.parameters():\n",
    "                param.requires_grad = False\n",
    "\n",
    "    def forward(self, embed, mask):\n",
    "        output = self.transformer(embed, attention_mask=mask, output_attentions=True)\n",
    "        hidden = output.last_hidden_state\n",
    "        attention = output.attentions[-1]\n",
    "        cls_hidden = hidden[:, 0, :]\n",
    "        prediction = self.fc(torch.tanh(cls_hidden))\n",
    "        return prediction"
   ]
  },
  {
   "cell_type": "code",
   "execution_count": 80,
   "metadata": {},
   "outputs": [],
   "source": [
    "transformer_model = SentimentTransformer(transformer, 3, False)"
   ]
  },
  {
   "cell_type": "code",
   "execution_count": 68,
   "metadata": {},
   "outputs": [
    {
     "name": "stdout",
     "output_type": "stream",
     "text": [
      "The Transformer model has 109,484,547 trainable parameters\n"
     ]
    }
   ],
   "source": [
    "count_parameters = sum(p.numel() for p in transformer_model.parameters() if p.requires_grad)\n",
    "\n",
    "print(f\"The Transformer model has {count_parameters:,} trainable parameters\")"
   ]
  },
  {
   "cell_type": "code",
   "execution_count": 69,
   "metadata": {},
   "outputs": [],
   "source": [
    "# Setting some parameters and choosing the optimzer, loss function, etc.\n",
    "learning_rateBERT = 0.00001\n",
    "optimizerBERT = optim.Adam(transformer_model.parameters(), lr=learning_rateBERT)\n",
    "criterionBERT = nn.CrossEntropyLoss()\n",
    "deviceBERT = torch.device(\"cuda\" if torch.cuda.is_available() else \"cpu\")\n",
    "transformer_model = transformer_model.to(deviceBERT)\n",
    "criterionBERT = criterionBERT.to(deviceBERT)"
   ]
  },
  {
   "cell_type": "code",
   "execution_count": 70,
   "metadata": {},
   "outputs": [],
   "source": [
    "# Train the model\n",
    "def train_modelBERT(model, criterion, optimizer, train_loader, epoch):\n",
    "    model.train()\n",
    "    train_loss = 0.0\n",
    "    count = 0\n",
    "    predictions = []\n",
    "    true_labels = []\n",
    "    total_step = len(train_loader)\n",
    "\n",
    "    for i, (embeds, mask, labels) in enumerate(train_loader):\n",
    "        embeds = embeds.to(deviceBERT)\n",
    "        mask = mask.to(deviceBERT)\n",
    "        labels = labels.to(deviceBERT)\n",
    "        \n",
    "        # Forward pass\n",
    "        outputs = model(embeds, mask)\n",
    "        loss = criterion(outputs, labels)\n",
    "\n",
    "        predictions.extend(outputs.argmax(dim=-1).numpy())\n",
    "        true_labels.extend(labels.numpy())\n",
    "\n",
    "        # Backward and optimize\n",
    "        optimizer.zero_grad()\n",
    "        loss.backward()\n",
    "        optimizer.step()\n",
    "        \n",
    "        train_loss += loss.item() * embeds.size(0)\n",
    "        count += embeds.size(0)\n",
    "        \n",
    "        if (i+1) % 100 == 0:\n",
    "            logging.info('Epoch [{}], Step [{}/{}], Loss: {:.4f}' \n",
    "                .format(epoch+1, i+1, total_step, loss.item()))\n",
    "\n",
    "    predictions = np.array(predictions)\n",
    "    true_labels = np.array(true_labels)\n",
    "    macro_f1 = f1_score(true_labels, predictions, average='macro')\n",
    "\n",
    "    average_loss = train_loss / count\n",
    "    return average_loss, macro_f1"
   ]
  },
  {
   "cell_type": "code",
   "execution_count": 71,
   "metadata": {},
   "outputs": [],
   "source": [
    "# Validate the model\n",
    "def dev_modelBERT(model, criterion, dev_loader, epoch):\n",
    "    model.eval()\n",
    "    dev_loss = 0.0\n",
    "    count = 0\n",
    "    predictions = []\n",
    "    true_labels = []\n",
    "\n",
    "    with torch.no_grad():\n",
    "        for embeds, mask, labels in dev_loader:\n",
    "            embeds = embeds.to(deviceBERT)\n",
    "            mask = mask.to(deviceBERT)\n",
    "            labels = labels.to(deviceBERT)\n",
    "            outputs = model(embeds, mask)\n",
    "            loss = criterion(outputs, labels)\n",
    "\n",
    "            predictions.extend(outputs.argmax(dim=-1).numpy())\n",
    "            true_labels.extend(labels.numpy())\n",
    "\n",
    "            dev_loss += loss.item() * embeds.size(0)\n",
    "            count += embeds.size(0)\n",
    "    \n",
    "    predictions = np.array(predictions)\n",
    "    true_labels = np.array(true_labels)\n",
    "    macro_f1 = f1_score(true_labels, predictions, average='macro')\n",
    "\n",
    "    average_loss = dev_loss / count\n",
    "    return average_loss, macro_f1"
   ]
  },
  {
   "cell_type": "code",
   "execution_count": 72,
   "metadata": {},
   "outputs": [],
   "source": [
    "def train_devBERT(model, criterion, optimizer, train_loader, dev_loader, num_epochs, path):\n",
    "    torch.save(model.state_dict(), path)\n",
    "    best_f1 = 0.0\n",
    "\n",
    "    # loss across epochs\n",
    "    train_loss_history = []\n",
    "    dev_loss_history = []\n",
    "    train_f1_history = []\n",
    "    dev_f1_history = []\n",
    "\n",
    "    for epoch in range(num_epochs):\n",
    "        logging.info(f'Training epoch {epoch+1}......')\n",
    "        train_loss, train_f1 = train_modelBERT(model, criterion, optimizer, train_loader, epoch)\n",
    "        dev_loss, dev_f1 = dev_modelBERT(model, criterion, dev_loader, epoch)\n",
    "        train_loss_history.append(train_loss)\n",
    "        dev_loss_history.append(dev_loss)\n",
    "        train_f1_history.append(train_f1)\n",
    "        dev_f1_history.append(dev_f1)\n",
    "\n",
    "        logging.info(f\"Average training loss: {train_loss}; Macro F1: {train_f1}\")\n",
    "        logging.info(f\"Average validation loss: {dev_loss}; Macro F1: {dev_f1}\")\n",
    "            \n",
    "        # deep copy the model\n",
    "        if dev_f1 > best_f1:\n",
    "            best_f1 = dev_f1\n",
    "            torch.save(model.state_dict(), path)\n",
    "\n",
    "    # load best model weights\n",
    "    model.load_state_dict(torch.load(path))\n",
    "\n",
    "    return model, train_loss_history, dev_loss_history, train_f1_history, dev_f1_history"
   ]
  },
  {
   "cell_type": "code",
   "execution_count": 73,
   "metadata": {},
   "outputs": [],
   "source": [
    "# Generate predictions\n",
    "def test_modelBERT(model, test_loader):\n",
    "    model.eval()\n",
    "    predictions = []\n",
    "\n",
    "    with torch.no_grad():\n",
    "        for embeds, mask, _ in test_loader:\n",
    "            embeds = embeds.to(deviceBERT)\n",
    "            mask = mask.to(deviceBERT)\n",
    "            outputs = model(embeds, mask)\n",
    "            for output in list(outputs.argmax(dim=-1)):\n",
    "                if output == 0:\n",
    "                    predictions.append('neutral')\n",
    "                elif output == 1:\n",
    "                    predictions.append('negative')\n",
    "                elif output == 2:\n",
    "                    predictions.append('positive')\n",
    "                else:\n",
    "                    predictions.append('neutral')\n",
    "\n",
    "    return predictions"
   ]
  },
  {
   "cell_type": "code",
   "execution_count": 74,
   "metadata": {},
   "outputs": [],
   "source": [
    "transformer_model, train_loss_BERT, dev_loss_BERT, train_f1_BERT, dev_f1_BERT = \\\n",
    "    train_devBERT(transformer_model, criterionBERT, optimizerBERT, train_loaderBERT, dev_loaderBERT, \\\n",
    "        5, 'transformer.pt')"
   ]
  },
  {
   "cell_type": "code",
   "execution_count": 57,
   "metadata": {},
   "outputs": [
    {
     "data": {
      "text/plain": [
       "<All keys matched successfully>"
      ]
     },
     "execution_count": 57,
     "metadata": {},
     "output_type": "execute_result"
    }
   ],
   "source": [
    "# Loading the trained Transformer model (if not trained in the above cell)\n",
    "transformer_model.load_state_dict(torch.load('transformer.pt'))"
   ]
  },
  {
   "cell_type": "code",
   "execution_count": 79,
   "metadata": {},
   "outputs": [
    {
     "data": {
      "image/png": "[encoded data removed]",
      "text/plain": [
       "<Figure size 800x300 with 2 Axes>"
      ]
     },
     "metadata": {},
     "output_type": "display_data"
    }
   ],
   "source": [
    "fig, axs = plt.subplots(1, 2, figsize=(8, 3))\n",
    "\n",
    "axs[0].plot(range(1, len(train_loss_BERT)+1), train_loss_BERT, color='blue', label='Training Loss')\n",
    "axs[0].plot(range(1, len(dev_loss_BERT)+1), dev_loss_BERT, color='red', label='Validation Loss')\n",
    "axs[0].set_title('Training and Validation Loss')\n",
    "axs[0].set_xlabel('Epoch')\n",
    "axs[0].set_ylabel('Loss')\n",
    "axs[0].legend()\n",
    "\n",
    "axs[1].plot(range(1, len(train_f1_BERT)+1), train_f1_BERT, color='blue', label='Training R2')\n",
    "axs[1].plot(range(1, len(dev_f1_BERT)+1), dev_f1_BERT, color='red', label='Validation R2')\n",
    "axs[1].set_title('Training and Validation Macro F1')\n",
    "axs[1].set_xlabel('Epoch')\n",
    "axs[1].set_ylabel('Macro F1')\n",
    "axs[1].legend()\n",
    "\n",
    "plt.tight_layout()\n",
    "plt.show()"
   ]
  },
  {
   "cell_type": "code",
   "execution_count": 77,
   "metadata": {},
   "outputs": [
    {
     "name": "stdout",
     "output_type": "stream",
     "text": [
      "            positive  negative  neutral\n",
      "positive    0.758     0.016     0.227     \n",
      "negative    0.033     0.711     0.256     \n",
      "neutral     0.168     0.114     0.717     \n",
      "\n",
      "semeval-tweets\\twitter-dev-data.txt (bow-MaxEnt)\n",
      "Accuracy: 0.731, Average Recall: 0.725, Macro F1: 0.730\n"
     ]
    }
   ],
   "source": [
    "id_preds = {}\n",
    "ids = tweetids[devset]\n",
    "preds = test_modelBERT(transformer_model, dev_loaderBERT)\n",
    "for i in range(len(ids)):\n",
    "    id_preds[ids[i]] = preds[i]\n",
    "            \n",
    "devset_name = devset\n",
    "devset_path = join('semeval-tweets', devset_name)\n",
    "confusion(id_preds, devset_path, \"MaxEnt\")\n",
    "evaluate(id_preds, devset_path, \"bow\" + '-' + \"MaxEnt\")"
   ]
  }
 ],
 "metadata": {
  "kernelspec": {
   "display_name": "Python 3",
   "language": "python",
   "name": "python3"
  },
  "language_info": {
   "codemirror_mode": {
    "name": "ipython",
    "version": 3
   },
   "file_extension": ".py",
   "mimetype": "text/x-python",
   "name": "python",
   "nbconvert_exporter": "python",
   "pygments_lexer": "ipython3",
   "version": "3.10.0"
  }
 },
 "nbformat": 4,
 "nbformat_minor": 2
}
