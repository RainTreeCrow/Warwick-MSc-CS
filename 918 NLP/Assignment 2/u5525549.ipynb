{
 "cells": [
  {
   "cell_type": "markdown",
   "metadata": {},
   "source": [
    "# Sentiment Classification"
   ]
  },
  {
   "cell_type": "code",
   "execution_count": 1,
   "metadata": {},
   "outputs": [
    {
     "name": "stderr",
     "output_type": "stream",
     "text": [
      "[nltk_data] Downloading package punkt to\n",
      "[nltk_data]     C:\\Users\\Sleepyard\\AppData\\Roaming\\nltk_data...\n",
      "[nltk_data]   Package punkt is already up-to-date!\n",
      "[nltk_data] Downloading package stopwords to\n",
      "[nltk_data]     C:\\Users\\Sleepyard\\AppData\\Roaming\\nltk_data...\n",
      "[nltk_data]   Package stopwords is already up-to-date!\n",
      "[nltk_data] Downloading package wordnet to\n",
      "[nltk_data]     C:\\Users\\Sleepyard\\AppData\\Roaming\\nltk_data...\n",
      "[nltk_data]   Package wordnet is already up-to-date!\n"
     ]
    }
   ],
   "source": [
    "# Import necessary packages\n",
    "import re\n",
    "import os\n",
    "import json\n",
    "import logging\n",
    "\n",
    "logging.basicConfig(\n",
    "    filename='info.log',\n",
    "    level=logging.INFO,\n",
    "    format='%(asctime)s - %(levelname)s - %(message)s',\n",
    "    datefmt='%Y-%m-%d %H:%M:%S'\n",
    ")\n",
    "\n",
    "from os.path import join\n",
    "import numpy as np\n",
    "import nltk\n",
    "from nltk import bigrams\n",
    "from nltk.tokenize import word_tokenize\n",
    "from nltk.tag import pos_tag\n",
    "from nltk.corpus import stopwords\n",
    "from nltk.stem import WordNetLemmatizer\n",
    "from nltk.collections import Counter\n",
    "\n",
    "nltk.download('punkt')\n",
    "nltk.download('stopwords')\n",
    "nltk.download('wordnet')\n",
    "\n",
    "import matplotlib.pyplot as plt\n",
    "from sklearn.linear_model import LogisticRegression\n",
    "from sklearn.svm import SVC\n",
    "from sklearn.naive_bayes import MultinomialNB\n",
    "from sklearn.metrics import f1_score\n",
    "\n",
    "import torch\n",
    "import torch.nn as nn\n",
    "import torch.optim as optim\n",
    "import torchtext\n",
    "from torch.utils.data import Dataset, DataLoader\n",
    "import transformers"
   ]
  },
  {
   "cell_type": "code",
   "execution_count": 2,
   "metadata": {},
   "outputs": [],
   "source": [
    "# Define test sets\n",
    "trainset = 'twitter-training-data.txt'\n",
    "devset = 'twitter-dev-data.txt'\n",
    "testsets = ['twitter-test1.txt', 'twitter-test2.txt', 'twitter-test3.txt']\n",
    "glove_file = 'glove.6B.100d.txt'"
   ]
  },
  {
   "cell_type": "code",
   "execution_count": 3,
   "metadata": {},
   "outputs": [],
   "source": [
    "# Skeleton: Evaluation code for the test sets\n",
    "def read_test(testset):\n",
    "    '''\n",
    "    readin the testset and return a dictionary\n",
    "    :param testset: str, the file name of the testset to compare\n",
    "    '''\n",
    "    id_gts = {}\n",
    "    with open(testset, 'r', encoding='utf8') as fh:\n",
    "        for line in fh:\n",
    "            fields = line.split('\\t')\n",
    "            tweetid = fields[0]\n",
    "            gt = fields[1]\n",
    "\n",
    "            id_gts[tweetid] = gt\n",
    "\n",
    "    return id_gts\n",
    "\n",
    "\n",
    "def confusion(id_preds, testset, classifier):\n",
    "    '''\n",
    "    print the confusion matrix of {'positive', 'negative'} between preds and testset\n",
    "    :param id_preds: a dictionary of predictions formated as {<tweetid>:<sentiment>, ... }\n",
    "    :param testset: str, the file name of the testset to compare\n",
    "    :classifier: str, the name of the classifier\n",
    "    '''\n",
    "    id_gts = read_test(testset)\n",
    "\n",
    "    gts = []\n",
    "    for m, c1 in id_gts.items():\n",
    "        if c1 not in gts:\n",
    "            gts.append(c1)\n",
    "\n",
    "    gts = ['positive', 'negative', 'neutral']\n",
    "\n",
    "    conf = {}\n",
    "    for c1 in gts:\n",
    "        conf[c1] = {}\n",
    "        for c2 in gts:\n",
    "            conf[c1][c2] = 0\n",
    "\n",
    "    for tweetid, gt in id_gts.items():\n",
    "        if tweetid in id_preds:\n",
    "            pred = id_preds[tweetid]\n",
    "        else:\n",
    "            pred = 'neutral'\n",
    "        conf[pred][gt] += 1\n",
    "\n",
    "    print(''.ljust(12) + '  '.join(gts))\n",
    "\n",
    "    for c1 in gts:\n",
    "        print(c1.ljust(12), end='')\n",
    "        for c2 in gts:\n",
    "            if sum(conf[c1].values()) > 0:\n",
    "                print('%.3f     ' % (conf[c1][c2] / float(sum(conf[c1].values()))), end='')\n",
    "            else:\n",
    "                print('0.000     ', end='')\n",
    "        print('')\n",
    "\n",
    "    print('')\n",
    "\n",
    "\n",
    "def evaluate(id_preds, testset, classifier):\n",
    "    '''\n",
    "    print the macro-F1 score of {'positive', 'netative'} between preds and testset\n",
    "    :param id_preds: a dictionary of predictions formated as {<tweetid>:<sentiment>, ... }\n",
    "    :param testset: str, the file name of the testset to compare\n",
    "    :classifier: str, the name of the classifier\n",
    "    '''\n",
    "    id_gts = read_test(testset)\n",
    "\n",
    "    f1_by_class = {}\n",
    "    for gt in ['positive', 'negative', 'neutral']:\n",
    "        f1_by_class[gt] = {'tp': 0, 'fp': 0, 'tn': 0, 'fn': 0}\n",
    "\n",
    "    catf1s = {}\n",
    "\n",
    "    ok = 0\n",
    "    for tweetid, gt in id_gts.items():\n",
    "        if tweetid in id_preds:\n",
    "            pred = id_preds[tweetid]\n",
    "        else:\n",
    "            pred = 'neutral'\n",
    "\n",
    "        if gt == pred:\n",
    "            ok += 1\n",
    "            f1_by_class[gt]['tp'] += 1\n",
    "        else:\n",
    "            f1_by_class[gt]['fn'] += 1\n",
    "            f1_by_class[pred]['fp'] += 1\n",
    "\n",
    "    catcount = 0\n",
    "    itemcount = 0\n",
    "    macro = {'p': 0, 'r': 0, 'f1': 0}\n",
    "    micro = {'p': 0, 'r': 0, 'f1': 0}\n",
    "    semevalmacro = {'p': 0, 'r': 0, 'f1': 0}\n",
    "\n",
    "    microtp = 0\n",
    "    microfp = 0\n",
    "    microtn = 0\n",
    "    microfn = 0\n",
    "    for cat, acc in f1_by_class.items():\n",
    "        catcount += 1\n",
    "\n",
    "        microtp += acc['tp']\n",
    "        microfp += acc['fp']\n",
    "        microtn += acc['tn']\n",
    "        microfn += acc['fn']\n",
    "\n",
    "        p = 0\n",
    "        if (acc['tp'] + acc['fp']) > 0:\n",
    "            p = float(acc['tp']) / (acc['tp'] + acc['fp'])\n",
    "\n",
    "        r = 0\n",
    "        if (acc['tp'] + acc['fn']) > 0:\n",
    "            r = float(acc['tp']) / (acc['tp'] + acc['fn'])\n",
    "\n",
    "        f1 = 0\n",
    "        if (p + r) > 0:\n",
    "            f1 = 2 * p * r / (p + r)\n",
    "\n",
    "        catf1s[cat] = f1\n",
    "\n",
    "        n = acc['tp'] + acc['fn']\n",
    "\n",
    "        macro['p'] += p\n",
    "        macro['r'] += r\n",
    "        macro['f1'] += f1\n",
    "\n",
    "        if cat in ['positive', 'negative']:\n",
    "            semevalmacro['p'] += p\n",
    "            semevalmacro['r'] += r\n",
    "            semevalmacro['f1'] += f1\n",
    "\n",
    "        itemcount += n\n",
    "\n",
    "    micro['p'] = float(microtp) / float(microtp + microfp)\n",
    "    micro['r'] = float(microtp) / float(microtp + microfn)\n",
    "    micro['f1'] = 2 * float(micro['p']) * micro['r'] / float(micro['p'] + micro['r'])\n",
    "\n",
    "    semevalmacrof1 = semevalmacro['f1'] / 2\n",
    "\n",
    "    print(testset + ' (' + classifier + ')')\n",
    "    avgrec = sum(float(acc['tp'] / (acc['tp'] + acc['fn'])) for _, acc in f1_by_class.items()) / 3\n",
    "    print('Accuracy: %.3f,' % float(ok / len(id_gts)),\n",
    "        'Average Recall: %.3f,' % avgrec,\n",
    "        'Macro F1: %.3f' % semevalmacrof1\n",
    "    )"
   ]
  },
  {
   "cell_type": "markdown",
   "metadata": {},
   "source": [
    "#### Preprocessing"
   ]
  },
  {
   "cell_type": "code",
   "execution_count": 4,
   "metadata": {},
   "outputs": [],
   "source": [
    "# The preprocessor\n",
    "def preprocess(tweet):\n",
    "    # Remove RT (retweet)\n",
    "    tweet = re.sub(r\"\\bRT\\b\", \"\", tweet)\n",
    "    # Replace consecutive dots (...) with whitespace\n",
    "    tweet = re.sub(r\"[.\\-']{2,}\", \" \", tweet)\n",
    "    # Covert to lower case\n",
    "    tweet = tweet.lower()\n",
    "    # Remove URLs\n",
    "    tweet = re.sub((r\"((https?|ftp)://)?\"\n",
    "            r\"[a-z0-9\\-._~:/?#\\[\\]@!$&'()*+,;=%]+\"\n",
    "            r\"\\.[a-z]{2,}\"\n",
    "            r\"[a-z0-9\\-._~:/?#\\[\\]@!$&'()*+,;=%]*\"\n",
    "        ), \"\", tweet)\n",
    "    # Remove user Mentions\n",
    "    tweet = re.sub(r\"@[\\S]+\", \"\", tweet)\n",
    "    # Remove hashtags\n",
    "    tweet = re.sub(r\"#[\\S]+\", \"\", tweet)\n",
    "    # Remove non-alphanumeric symbols (keep .'-:,)\n",
    "    tweet = re.sub(r\"[^a-z0-9.'\\-:,/\\s]\", \"\", tweet)\n",
    "    # Keep .'- if they are inside a word (between letters)\n",
    "    tweet = re.sub(r\"(?<![a-z])[.\\-']|[.\\-'](?![a-z])\", \" \", tweet)\n",
    "    # Keep :, if they are inside a number (between digits)\n",
    "    tweet = re.sub(r\"(?<![0-9])[:,/]|[:,/](?![0-9])\", \" \", tweet)\n",
    "    # Replace multiple whitespaces with one\n",
    "    tweet = re.sub(r\"\\s+\", \" \", tweet)\n",
    "    # Remove whitespaces at the beginning or end\n",
    "    tweet = tweet.strip()\n",
    "    return tweet"
   ]
  },
  {
   "cell_type": "code",
   "execution_count": 5,
   "metadata": {},
   "outputs": [
    {
     "name": "stdout",
     "output_type": "stream",
     "text": [
      "yep and that might b my move in dallas tonight true tht would b fun\n",
      "hmmmmm where are the when matters like this a rise kids are a disgrace\n",
      "that's right ladies i'm blaming everything on kerry cleo this show may well eclipse the numbers of\n",
      "the u.s says the boko haram sect in north-east nigeria may have benefitted from money gotten from crude oil theft\n"
     ]
    }
   ],
   "source": [
    "# Test the preprocessor\n",
    "example_tweet_1 = \"Yep and that might b my move in Dallas tonight \\\n",
    "RT @AntwannetteBond: True! Tht would b fun.. @Breedlove_08\"\n",
    "example_tweet_2 = \"Hmmmmm where are the #BlackLivesMatter when matters like this a rise... \\\n",
    "kids are a disgrace!! https://t.co/aPrB0VtvCN\"\n",
    "example_tweet_3 = \"@Talk2Cleo @KerryMacuska That's right, ladies. \\\n",
    "I'm blaming everything on Kerry. Cleo this show may well eclipse the numbers of @JakeNeedham\"\n",
    "example_tweet_4 = \"@channelstv: The U.S. says the Boko Haram sect in north-east Nigeria \\\n",
    "may have benefitted from money gotten from crude oil theft.\"\n",
    "\n",
    "print(preprocess(example_tweet_1))\n",
    "print(preprocess(example_tweet_2))\n",
    "print(preprocess(example_tweet_3))\n",
    "print(preprocess(example_tweet_4))"
   ]
  },
  {
   "cell_type": "code",
   "execution_count": 6,
   "metadata": {},
   "outputs": [],
   "source": [
    "# Load training set, dev set and testing set\n",
    "tweetids = {}\n",
    "tweetgts = {}\n",
    "tweets = {}\n",
    "\n",
    "for dataset in [trainset, devset] + testsets:\n",
    "    tweets[dataset] = []\n",
    "    tweetids[dataset] = []\n",
    "    tweetgts[dataset] = []\n",
    "\n",
    "    # write code to read in the datasets here\n",
    "    dataset_path = join('semeval-tweets', dataset)\n",
    "    with open(dataset_path, 'r', encoding='utf-8') as fh:\n",
    "        for line in fh:\n",
    "            fields = line.strip().split('\\t')\n",
    "            tweet_id = fields[0]\n",
    "            sentiment = fields[1]\n",
    "            tweet_text = preprocess(fields[2])\n",
    "\n",
    "            tweetids[dataset].append(tweet_id)\n",
    "            tweetgts[dataset].append(sentiment)\n",
    "            tweets[dataset].append(tweet_text)"
   ]
  },
  {
   "cell_type": "code",
   "execution_count": 7,
   "metadata": {},
   "outputs": [
    {
     "name": "stdout",
     "output_type": "stream",
     "text": [
      "--------------------------------------------------\n",
      "twitter-training-data.txt: 45101 tweets\n",
      "tweet: felt privileged to play foo fighters songs on guitar today with one of the plectrums from the gig on saturday\n",
      "id: 335104872099066692\n",
      "sentiment: positive\n",
      "--------------------------------------------------\n",
      "twitter-dev-data.txt: 2000 tweets\n",
      "tweet: hey you i'm gonna be in dublin in february know what i'm saying\n",
      "id: 262696992176304465\n",
      "sentiment: neutral\n",
      "--------------------------------------------------\n",
      "twitter-test1.txt: 3531 tweets\n",
      "tweet: candids heading to the chateau marmont in west hollywood october 10th\n",
      "id: 163361196206957578\n",
      "sentiment: neutral\n",
      "--------------------------------------------------\n",
      "twitter-test2.txt: 1853 tweets\n",
      "tweet: anybody going to that 4th of july pool party in knollwood\n",
      "id: 364323072843019872\n",
      "sentiment: neutral\n",
      "--------------------------------------------------\n",
      "twitter-test3.txt: 2379 tweets\n",
      "tweet: yeah dont think 8 or 9 like some is a risk but welbeck must be amongst the goals as for delph got a knock rested for sunday\n",
      "id: 063115054245201986\n",
      "sentiment: neutral\n"
     ]
    }
   ],
   "source": [
    "# Take a look\n",
    "for dataset in [trainset, devset] + testsets:\n",
    "    print(\"-\" * 50)\n",
    "    print(f\"{dataset}: {len(tweets[dataset])} tweets\" )\n",
    "    print(\"tweet:\", tweets[dataset][0])\n",
    "    print(\"id:\", tweetids[dataset][0])\n",
    "    print(\"sentiment:\", tweetgts[dataset][0])"
   ]
  },
  {
   "cell_type": "markdown",
   "metadata": {},
   "source": [
    "#### Feature Extraction\n",
    "\n",
    "Extracting the bag-of-word features and the word-embedding-based features."
   ]
  },
  {
   "cell_type": "markdown",
   "metadata": {},
   "source": [
    "##### Bag-of-word"
   ]
  },
  {
   "cell_type": "code",
   "execution_count": 9,
   "metadata": {},
   "outputs": [],
   "source": [
    "# For bag-of-words, we remove the stop words and perform lemmatization\n",
    "lemmatizer = WordNetLemmatizer()\n",
    "stop_words = set(stopwords.words('english'))\n",
    "\n",
    "def get_wordnet_pos(treebank_tag):\n",
    "    if treebank_tag.startswith('J'):\n",
    "        return 'a'  # Adjective\n",
    "    elif treebank_tag.startswith('V'):\n",
    "        return 'v'  # Verb\n",
    "    elif treebank_tag.startswith('N'):\n",
    "        return 'n'  # Noun\n",
    "    elif treebank_tag.startswith('R'):\n",
    "        return 'r'  # Adverb\n",
    "    else:\n",
    "        return 'n'  # Default to Noun if not one of the above\n",
    "\n",
    "# Turn each tweet into a list of lemmatized words\n",
    "tweetwords = {}\n",
    "# A vocabulary of words from training set\n",
    "vocabulary = []\n",
    "\n",
    "for dataset in [trainset, devset] + testsets:\n",
    "    tweetwords[dataset] = []\n",
    "\n",
    "    for tweet in tweets[dataset]:\n",
    "        words = word_tokenize(tweet)\n",
    "        tagged_words = pos_tag(words)\n",
    "        words = [lemmatizer.lemmatize(word, pos=get_wordnet_pos(pos_tag)) \\\n",
    "            for word, pos_tag in tagged_words \\\n",
    "                if word.strip(\".-'\") not in stop_words]\n",
    "        tweetwords[dataset].append(words)\n",
    "    \n",
    "        if dataset == trainset:\n",
    "            vocabulary.extend(words)"
   ]
  },
  {
   "cell_type": "code",
   "execution_count": 10,
   "metadata": {},
   "outputs": [
    {
     "name": "stdout",
     "output_type": "stream",
     "text": [
      "twitter-training-data.txt:\n",
      "words: ['felt', 'privilege', 'play', 'foo', 'fighter', 'song', 'guitar', 'today', 'one', 'plectrum', 'gig', 'saturday']\n",
      "twitter-dev-data.txt:\n",
      "words: ['hey', 'gon', 'na', 'dublin', 'february', 'know', 'say']\n",
      "twitter-test1.txt:\n",
      "words: ['candids', 'head', 'chateau', 'marmont', 'west', 'hollywood', 'october', '10th']\n",
      "twitter-test2.txt:\n",
      "words: ['anybody', 'go', '4th', 'july', 'pool', 'party', 'knollwood']\n",
      "twitter-test3.txt:\n",
      "words: ['yeah', 'dont', 'think', '8', '9', 'like', 'risk', 'welbeck', 'must', 'amongst', 'goal', 'delph', 'get', 'knock', 'rest', 'sunday']\n"
     ]
    }
   ],
   "source": [
    "# Take a look\n",
    "for dataset in [trainset, devset] + testsets:\n",
    "    print(f\"{dataset}:\" )\n",
    "    print(\"words:\", tweetwords[dataset][0])"
   ]
  },
  {
   "cell_type": "code",
   "execution_count": 11,
   "metadata": {},
   "outputs": [
    {
     "name": "stdout",
     "output_type": "stream",
     "text": [
      "The size of vocabulary is 34337.\n"
     ]
    }
   ],
   "source": [
    "vocab = Counter(vocabulary)\n",
    "print(f\"The size of vocabulary is {len(vocab)}.\")"
   ]
  },
  {
   "cell_type": "code",
   "execution_count": 12,
   "metadata": {},
   "outputs": [
    {
     "name": "stdout",
     "output_type": "stream",
     "text": [
      "The size of vocabulary of words that occurred more than 10 times is 5055.\n"
     ]
    }
   ],
   "source": [
    "# Discard the words that occurred less than 10 times in the training dataset\n",
    "filtered_vocab = {key: value for key, value in vocab.items() if value >= 10}\n",
    "\n",
    "print(f\"The size of vocabulary of words that occurred more than 10 times is {len(filtered_vocab)}.\")"
   ]
  },
  {
   "cell_type": "code",
   "execution_count": 13,
   "metadata": {},
   "outputs": [],
   "source": [
    "# The bag-of-words representation for each tweet in vector (list) form\n",
    "tweetbow = {}\n",
    "\n",
    "for dataset in [trainset, devset] + testsets:\n",
    "    tweetbow[dataset] = []\n",
    "    \n",
    "    for tweetword in tweetwords[dataset]:\n",
    "        word_counter = Counter(tweetword)\n",
    "        bow = []\n",
    "        for word in filtered_vocab.keys():\n",
    "            if word in word_counter:\n",
    "                bow.append(word_counter[word])\n",
    "            else:\n",
    "                bow.append(0)\n",
    "        tweetbow[dataset].append(bow)"
   ]
  },
  {
   "cell_type": "code",
   "execution_count": null,
   "metadata": {},
   "outputs": [],
   "source": [
    "# # Save the bag-of-words representation in files...\n",
    "# for dataset in [trainset, devset] + testsets:\n",
    "#     if not os.path.exists(\"bow\"):\n",
    "#         os.makedirs(\"bow\")\n",
    "#     with open(\"bow/bow_\" + dataset, \"w\") as file:\n",
    "#         for bow in tweetbow[dataset]:\n",
    "#             file.write(\" \".join(map(str, bow)) + \"\\n\")"
   ]
  },
  {
   "cell_type": "code",
   "execution_count": null,
   "metadata": {},
   "outputs": [],
   "source": [
    "# # Read them back (this is just in case the jupyter kernel crashed and I lost all variables...\n",
    "# # and that I do not want to calculate everything from scratch all over again...)\n",
    "# tweetbow = {}\n",
    "\n",
    "# for dataset in [trainset, devset] + testsets:\n",
    "#     tweetbow[dataset] = []\n",
    "\n",
    "#     with open(\"bow/bow_\" + dataset, \"r\") as file:\n",
    "#         for line in file:\n",
    "#             bow = list(map(int, line.strip().split()))\n",
    "#             tweetbow[dataset].append(bow)"
   ]
  },
  {
   "cell_type": "markdown",
   "metadata": {},
   "source": [
    "##### Word Embedding"
   ]
  },
  {
   "cell_type": "code",
   "execution_count": 14,
   "metadata": {},
   "outputs": [],
   "source": [
    "# For word embedding, keep the stop words and don't perform lemmatization\n",
    "# Turn each tweet into a list of raw words\n",
    "tweetraw = {}\n",
    "# A combined vocabulary of raw words from the training set\n",
    "vocabularyraw = []\n",
    "\n",
    "for dataset in [trainset, devset] + testsets:\n",
    "    tweetraw[dataset] = []\n",
    "\n",
    "    for tweet in tweets[dataset]:\n",
    "        words = word_tokenize(tweet)\n",
    "        tweetraw[dataset].append(words)\n",
    "\n",
    "        if dataset == trainset:\n",
    "            vocabularyraw.extend(words)"
   ]
  },
  {
   "cell_type": "code",
   "execution_count": 15,
   "metadata": {},
   "outputs": [
    {
     "name": "stdout",
     "output_type": "stream",
     "text": [
      "Average sentence length on twitter-training-data.txt: 17.89718631515931\n",
      "Average sentence length on twitter-dev-data.txt: 17.7805\n",
      "Average sentence length on twitter-test1.txt: 18.845086377796658\n",
      "Average sentence length on twitter-test2.txt: 18.977873718294656\n",
      "Average sentence length on twitter-test3.txt: 18.884825556956706\n"
     ]
    }
   ],
   "source": [
    "# Calculate the average length of tweet from each dataset\n",
    "for dataset in [trainset, devset] + testsets:\n",
    "    total_length = 0\n",
    "    max_length = 0\n",
    "    total_tweets = len(tweetraw[dataset])\n",
    "    \n",
    "    for tweet_raw in tweetraw[dataset]:\n",
    "        total_length += len(tweet_raw)\n",
    "    \n",
    "    average_length = total_length / total_tweets\n",
    "    print(f\"Average sentence length on {dataset}: {average_length}\")"
   ]
  },
  {
   "cell_type": "code",
   "execution_count": 16,
   "metadata": {},
   "outputs": [
    {
     "name": "stdout",
     "output_type": "stream",
     "text": [
      "0.9949668521762267 of tweets on twitter-training-data.txt are shorter than 30 tokens\n",
      "0.9945 of tweets on twitter-dev-data.txt are shorter than 30 tokens\n",
      "0.9966015293118097 of tweets on twitter-test1.txt are shorter than 30 tokens\n",
      "0.9967620075553157 of tweets on twitter-test2.txt are shorter than 30 tokens\n",
      "0.9962168978562421 of tweets on twitter-test3.txt are shorter than 30 tokens\n"
     ]
    }
   ],
   "source": [
    "# The average length is around 18-19, let's see how many of the tweets are shorter than 30\n",
    "for dataset in [trainset, devset] + testsets:\n",
    "    shorter_than = 0\n",
    "    total_tweets = len(tweetraw[dataset])\n",
    "    \n",
    "    for tweet_raw in tweetraw[dataset]:\n",
    "        if len(tweet_raw) <= 30:\n",
    "            shorter_than += 1\n",
    "    \n",
    "    percentage = shorter_than / total_tweets\n",
    "    print(f\"{percentage} of tweets on {dataset} are shorter than 30 tokens\")\n",
    "\n",
    "# Most of the tweets are included here so we may just set max_length to 30"
   ]
  },
  {
   "cell_type": "code",
   "execution_count": 17,
   "metadata": {},
   "outputs": [
    {
     "name": "stdout",
     "output_type": "stream",
     "text": [
      "The size of vocabulary is 39497.\n"
     ]
    }
   ],
   "source": [
    "vocabraw = Counter(vocabularyraw)\n",
    "print(f\"The size of vocabulary is {len(vocabraw)}.\")"
   ]
  },
  {
   "cell_type": "code",
   "execution_count": 18,
   "metadata": {},
   "outputs": [],
   "source": [
    "# Loading the GolVe word embedding vectors\n",
    "def load_glove_vectors(glove_file):\n",
    "    glove_vectors = {}\n",
    "    with open(glove_file, 'r', encoding='utf-8') as f:\n",
    "        for line in f:\n",
    "            split_line = line.strip().split()\n",
    "            word = split_line[0]\n",
    "            vector = [float(val) for val in split_line[1:]]\n",
    "            glove_vectors[word] = vector\n",
    "    return glove_vectors"
   ]
  },
  {
   "cell_type": "code",
   "execution_count": 19,
   "metadata": {},
   "outputs": [],
   "source": [
    "glove_vectors = load_glove_vectors(glove_file)"
   ]
  },
  {
   "cell_type": "code",
   "execution_count": 20,
   "metadata": {},
   "outputs": [
    {
     "name": "stdout",
     "output_type": "stream",
     "text": [
      "The size of vocabulary of words that exists in GloVe is 31308.\n"
     ]
    }
   ],
   "source": [
    "# Discard the words that do not exist in our GloVe embedding\n",
    "filtered_vocabraw = {key: value for key, value in vocabraw.items() if key in glove_vectors.keys()}\n",
    "\n",
    "print(f\"The size of vocabulary of words that exists in GloVe is {len(filtered_vocabraw)}.\")"
   ]
  },
  {
   "cell_type": "code",
   "execution_count": null,
   "metadata": {},
   "outputs": [],
   "source": [
    "# # Save the raw vocabulary in file...\n",
    "# with open('vocabraw.json', 'w') as f:\n",
    "#     json.dump(filtered_vocabraw, f)"
   ]
  },
  {
   "cell_type": "code",
   "execution_count": null,
   "metadata": {},
   "outputs": [],
   "source": [
    "# # Read it back (this is just in case the jupyter kernel crashed and I lost all variables...\n",
    "# # and that I do not want to calculate everything from scratch all over again...)\n",
    "# with open('vocabraw.json', 'r') as f:\n",
    "#     filtered_vocabraw = json.load(f)"
   ]
  },
  {
   "cell_type": "code",
   "execution_count": 21,
   "metadata": {},
   "outputs": [],
   "source": [
    "# Building the vocabulary with an index mapping\n",
    "# Here we only keep words that occurred more than 10 times in the training dataset\n",
    "embed_vocab = torchtext.vocab.vocab(\n",
    "    filtered_vocabraw,\n",
    "    min_freq=10,\n",
    "    specials=[\"<unk>\", \"<pad>\"],\n",
    ")\n",
    "\n",
    "unk_index = embed_vocab[\"<unk>\"]\n",
    "pad_index = embed_vocab[\"<pad>\"]\n",
    "\n",
    "embed_vocab.set_default_index(unk_index)"
   ]
  },
  {
   "cell_type": "code",
   "execution_count": 22,
   "metadata": {},
   "outputs": [],
   "source": [
    "# Map tokens to reference word index\n",
    "tweetembed = {}\n",
    "\n",
    "for dataset in [trainset, devset] + testsets:\n",
    "    tweetembed[dataset] = []\n",
    "\n",
    "    for raw in tweetraw[dataset]:\n",
    "        tweetembed[dataset].append(embed_vocab.lookup_indices(raw))"
   ]
  },
  {
   "cell_type": "code",
   "execution_count": null,
   "metadata": {},
   "outputs": [],
   "source": [
    "# # Save the embedding reference indices in files...\n",
    "# for dataset in [trainset, devset] + testsets:\n",
    "#     if not os.path.exists(\"embed\"):\n",
    "#         os.makedirs(\"embed\")\n",
    "#     with open(\"embed/embed_\" + dataset, \"w\") as file:\n",
    "#         for embed in tweetembed[dataset]:\n",
    "#             file.write(\" \".join(map(str, embed)) + \"\\n\")"
   ]
  },
  {
   "cell_type": "code",
   "execution_count": null,
   "metadata": {},
   "outputs": [],
   "source": [
    "# # Read them back (this is just in case the jupyter kernel crashed and I lost all variables...\n",
    "# # and that I do not want to calculate everything from scratch all over again...)\n",
    "# tweetembed = {}\n",
    "\n",
    "# for dataset in [trainset, devset] + testsets:\n",
    "#     tweetembed[dataset] = []\n",
    "\n",
    "#     with open(\"embed/embed_\" + dataset, \"r\") as file:\n",
    "#         for line in file:\n",
    "#             embed = list(map(int, line.strip().split()))\n",
    "#             tweetembed[dataset].append(embed)"
   ]
  },
  {
   "cell_type": "code",
   "execution_count": 23,
   "metadata": {},
   "outputs": [],
   "source": [
    "# The embedding layer for our LSTM model\n",
    "glove_embedding = nn.Embedding(len(embed_vocab), 100, padding_idx=pad_index)\n",
    "\n",
    "for i, word in enumerate(embed_vocab.get_itos()):\n",
    "    if word in glove_vectors:\n",
    "        glove_embedding.weight.data[i] = torch.tensor(glove_vectors[word])"
   ]
  },
  {
   "cell_type": "code",
   "execution_count": 24,
   "metadata": {},
   "outputs": [
    {
     "name": "stdout",
     "output_type": "stream",
     "text": [
      "Embedding matrix shape: torch.Size([5890, 100])\n"
     ]
    }
   ],
   "source": [
    "print(f\"Embedding matrix shape: {glove_embedding.weight.data.shape}\")"
   ]
  },
  {
   "cell_type": "markdown",
   "metadata": {},
   "source": [
    "#### Sentiment Classifiers"
   ]
  },
  {
   "cell_type": "markdown",
   "metadata": {},
   "source": [
    "##### MaxEnt"
   ]
  },
  {
   "cell_type": "code",
   "execution_count": 25,
   "metadata": {},
   "outputs": [
    {
     "data": {
      "text/html": [
       "<style>#sk-container-id-1 {color: black;}#sk-container-id-1 pre{padding: 0;}#sk-container-id-1 div.sk-toggleable {background-color: white;}#sk-container-id-1 label.sk-toggleable__label {cursor: pointer;display: block;width: 100%;margin-bottom: 0;padding: 0.3em;box-sizing: border-box;text-align: center;}#sk-container-id-1 label.sk-toggleable__label-arrow:before {content: \"▸\";float: left;margin-right: 0.25em;color: #696969;}#sk-container-id-1 label.sk-toggleable__label-arrow:hover:before {color: black;}#sk-container-id-1 div.sk-estimator:hover label.sk-toggleable__label-arrow:before {color: black;}#sk-container-id-1 div.sk-toggleable__content {max-height: 0;max-width: 0;overflow: hidden;text-align: left;background-color: #f0f8ff;}#sk-container-id-1 div.sk-toggleable__content pre {margin: 0.2em;color: black;border-radius: 0.25em;background-color: #f0f8ff;}#sk-container-id-1 input.sk-toggleable__control:checked~div.sk-toggleable__content {max-height: 200px;max-width: 100%;overflow: auto;}#sk-container-id-1 input.sk-toggleable__control:checked~label.sk-toggleable__label-arrow:before {content: \"▾\";}#sk-container-id-1 div.sk-estimator input.sk-toggleable__control:checked~label.sk-toggleable__label {background-color: #d4ebff;}#sk-container-id-1 div.sk-label input.sk-toggleable__control:checked~label.sk-toggleable__label {background-color: #d4ebff;}#sk-container-id-1 input.sk-hidden--visually {border: 0;clip: rect(1px 1px 1px 1px);clip: rect(1px, 1px, 1px, 1px);height: 1px;margin: -1px;overflow: hidden;padding: 0;position: absolute;width: 1px;}#sk-container-id-1 div.sk-estimator {font-family: monospace;background-color: #f0f8ff;border: 1px dotted black;border-radius: 0.25em;box-sizing: border-box;margin-bottom: 0.5em;}#sk-container-id-1 div.sk-estimator:hover {background-color: #d4ebff;}#sk-container-id-1 div.sk-parallel-item::after {content: \"\";width: 100%;border-bottom: 1px solid gray;flex-grow: 1;}#sk-container-id-1 div.sk-label:hover label.sk-toggleable__label {background-color: #d4ebff;}#sk-container-id-1 div.sk-serial::before {content: \"\";position: absolute;border-left: 1px solid gray;box-sizing: border-box;top: 0;bottom: 0;left: 50%;z-index: 0;}#sk-container-id-1 div.sk-serial {display: flex;flex-direction: column;align-items: center;background-color: white;padding-right: 0.2em;padding-left: 0.2em;position: relative;}#sk-container-id-1 div.sk-item {position: relative;z-index: 1;}#sk-container-id-1 div.sk-parallel {display: flex;align-items: stretch;justify-content: center;background-color: white;position: relative;}#sk-container-id-1 div.sk-item::before, #sk-container-id-1 div.sk-parallel-item::before {content: \"\";position: absolute;border-left: 1px solid gray;box-sizing: border-box;top: 0;bottom: 0;left: 50%;z-index: -1;}#sk-container-id-1 div.sk-parallel-item {display: flex;flex-direction: column;z-index: 1;position: relative;background-color: white;}#sk-container-id-1 div.sk-parallel-item:first-child::after {align-self: flex-end;width: 50%;}#sk-container-id-1 div.sk-parallel-item:last-child::after {align-self: flex-start;width: 50%;}#sk-container-id-1 div.sk-parallel-item:only-child::after {width: 0;}#sk-container-id-1 div.sk-dashed-wrapped {border: 1px dashed gray;margin: 0 0.4em 0.5em 0.4em;box-sizing: border-box;padding-bottom: 0.4em;background-color: white;}#sk-container-id-1 div.sk-label label {font-family: monospace;font-weight: bold;display: inline-block;line-height: 1.2em;}#sk-container-id-1 div.sk-label-container {text-align: center;}#sk-container-id-1 div.sk-container {/* jupyter's `normalize.less` sets `[hidden] { display: none; }` but bootstrap.min.css set `[hidden] { display: none !important; }` so we also need the `!important` here to be able to override the default hidden behavior on the sphinx rendered scikit-learn.org. See: https://github.com/scikit-learn/scikit-learn/issues/21755 */display: inline-block !important;position: relative;}#sk-container-id-1 div.sk-text-repr-fallback {display: none;}</style><div id=\"sk-container-id-1\" class=\"sk-top-container\"><div class=\"sk-text-repr-fallback\"><pre>LogisticRegression(max_iter=1000)</pre><b>In a Jupyter environment, please rerun this cell to show the HTML representation or trust the notebook. <br />On GitHub, the HTML representation is unable to render, please try loading this page with nbviewer.org.</b></div><div class=\"sk-container\" hidden><div class=\"sk-item\"><div class=\"sk-estimator sk-toggleable\"><input class=\"sk-toggleable__control sk-hidden--visually\" id=\"sk-estimator-id-1\" type=\"checkbox\" checked><label for=\"sk-estimator-id-1\" class=\"sk-toggleable__label sk-toggleable__label-arrow\">LogisticRegression</label><div class=\"sk-toggleable__content\"><pre>LogisticRegression(max_iter=1000)</pre></div></div></div></div></div>"
      ],
      "text/plain": [
       "LogisticRegression(max_iter=1000)"
      ]
     },
     "execution_count": 25,
     "metadata": {},
     "output_type": "execute_result"
    }
   ],
   "source": [
    "# The default 100 iters failed to converge\n",
    "maxent_bow_model = LogisticRegression(max_iter=1000)\n",
    "maxent_bow_model.fit(tweetbow[trainset], tweetgts[trainset])"
   ]
  },
  {
   "cell_type": "code",
   "execution_count": 26,
   "metadata": {},
   "outputs": [
    {
     "name": "stdout",
     "output_type": "stream",
     "text": [
      "            positive  negative  neutral\n",
      "positive    0.688     0.045     0.267     \n",
      "negative    0.059     0.629     0.311     \n",
      "neutral     0.228     0.158     0.614     \n",
      "\n",
      "semeval-tweets\\twitter-dev-data.txt (bow-MaxEnt)\n",
      "Accuracy: 0.640, Average Recall: 0.607, Macro F1: 0.599\n"
     ]
    }
   ],
   "source": [
    "# MaxEnt on bag-of-word features\n",
    "id_preds = {}\n",
    "ids = tweetids[devset]\n",
    "preds = maxent_bow_model.predict(tweetbow[devset])\n",
    "for i in range(len(ids)):\n",
    "    id_preds[ids[i]] = preds[i]\n",
    "            \n",
    "devset_name = devset\n",
    "devset_path = join('semeval-tweets', devset_name)\n",
    "confusion(id_preds, devset_path, \"MaxEnt\")\n",
    "evaluate(id_preds, devset_path, \"bow\" + '-' + \"MaxEnt\")"
   ]
  },
  {
   "cell_type": "markdown",
   "metadata": {},
   "source": [
    "##### Naïve Bayes"
   ]
  },
  {
   "cell_type": "code",
   "execution_count": 27,
   "metadata": {},
   "outputs": [
    {
     "data": {
      "text/html": [
       "<style>#sk-container-id-2 {color: black;}#sk-container-id-2 pre{padding: 0;}#sk-container-id-2 div.sk-toggleable {background-color: white;}#sk-container-id-2 label.sk-toggleable__label {cursor: pointer;display: block;width: 100%;margin-bottom: 0;padding: 0.3em;box-sizing: border-box;text-align: center;}#sk-container-id-2 label.sk-toggleable__label-arrow:before {content: \"▸\";float: left;margin-right: 0.25em;color: #696969;}#sk-container-id-2 label.sk-toggleable__label-arrow:hover:before {color: black;}#sk-container-id-2 div.sk-estimator:hover label.sk-toggleable__label-arrow:before {color: black;}#sk-container-id-2 div.sk-toggleable__content {max-height: 0;max-width: 0;overflow: hidden;text-align: left;background-color: #f0f8ff;}#sk-container-id-2 div.sk-toggleable__content pre {margin: 0.2em;color: black;border-radius: 0.25em;background-color: #f0f8ff;}#sk-container-id-2 input.sk-toggleable__control:checked~div.sk-toggleable__content {max-height: 200px;max-width: 100%;overflow: auto;}#sk-container-id-2 input.sk-toggleable__control:checked~label.sk-toggleable__label-arrow:before {content: \"▾\";}#sk-container-id-2 div.sk-estimator input.sk-toggleable__control:checked~label.sk-toggleable__label {background-color: #d4ebff;}#sk-container-id-2 div.sk-label input.sk-toggleable__control:checked~label.sk-toggleable__label {background-color: #d4ebff;}#sk-container-id-2 input.sk-hidden--visually {border: 0;clip: rect(1px 1px 1px 1px);clip: rect(1px, 1px, 1px, 1px);height: 1px;margin: -1px;overflow: hidden;padding: 0;position: absolute;width: 1px;}#sk-container-id-2 div.sk-estimator {font-family: monospace;background-color: #f0f8ff;border: 1px dotted black;border-radius: 0.25em;box-sizing: border-box;margin-bottom: 0.5em;}#sk-container-id-2 div.sk-estimator:hover {background-color: #d4ebff;}#sk-container-id-2 div.sk-parallel-item::after {content: \"\";width: 100%;border-bottom: 1px solid gray;flex-grow: 1;}#sk-container-id-2 div.sk-label:hover label.sk-toggleable__label {background-color: #d4ebff;}#sk-container-id-2 div.sk-serial::before {content: \"\";position: absolute;border-left: 1px solid gray;box-sizing: border-box;top: 0;bottom: 0;left: 50%;z-index: 0;}#sk-container-id-2 div.sk-serial {display: flex;flex-direction: column;align-items: center;background-color: white;padding-right: 0.2em;padding-left: 0.2em;position: relative;}#sk-container-id-2 div.sk-item {position: relative;z-index: 1;}#sk-container-id-2 div.sk-parallel {display: flex;align-items: stretch;justify-content: center;background-color: white;position: relative;}#sk-container-id-2 div.sk-item::before, #sk-container-id-2 div.sk-parallel-item::before {content: \"\";position: absolute;border-left: 1px solid gray;box-sizing: border-box;top: 0;bottom: 0;left: 50%;z-index: -1;}#sk-container-id-2 div.sk-parallel-item {display: flex;flex-direction: column;z-index: 1;position: relative;background-color: white;}#sk-container-id-2 div.sk-parallel-item:first-child::after {align-self: flex-end;width: 50%;}#sk-container-id-2 div.sk-parallel-item:last-child::after {align-self: flex-start;width: 50%;}#sk-container-id-2 div.sk-parallel-item:only-child::after {width: 0;}#sk-container-id-2 div.sk-dashed-wrapped {border: 1px dashed gray;margin: 0 0.4em 0.5em 0.4em;box-sizing: border-box;padding-bottom: 0.4em;background-color: white;}#sk-container-id-2 div.sk-label label {font-family: monospace;font-weight: bold;display: inline-block;line-height: 1.2em;}#sk-container-id-2 div.sk-label-container {text-align: center;}#sk-container-id-2 div.sk-container {/* jupyter's `normalize.less` sets `[hidden] { display: none; }` but bootstrap.min.css set `[hidden] { display: none !important; }` so we also need the `!important` here to be able to override the default hidden behavior on the sphinx rendered scikit-learn.org. See: https://github.com/scikit-learn/scikit-learn/issues/21755 */display: inline-block !important;position: relative;}#sk-container-id-2 div.sk-text-repr-fallback {display: none;}</style><div id=\"sk-container-id-2\" class=\"sk-top-container\"><div class=\"sk-text-repr-fallback\"><pre>MultinomialNB()</pre><b>In a Jupyter environment, please rerun this cell to show the HTML representation or trust the notebook. <br />On GitHub, the HTML representation is unable to render, please try loading this page with nbviewer.org.</b></div><div class=\"sk-container\" hidden><div class=\"sk-item\"><div class=\"sk-estimator sk-toggleable\"><input class=\"sk-toggleable__control sk-hidden--visually\" id=\"sk-estimator-id-2\" type=\"checkbox\" checked><label for=\"sk-estimator-id-2\" class=\"sk-toggleable__label sk-toggleable__label-arrow\">MultinomialNB</label><div class=\"sk-toggleable__content\"><pre>MultinomialNB()</pre></div></div></div></div></div>"
      ],
      "text/plain": [
       "MultinomialNB()"
      ]
     },
     "execution_count": 27,
     "metadata": {},
     "output_type": "execute_result"
    }
   ],
   "source": [
    "nb_bow_model = MultinomialNB()\n",
    "nb_bow_model.fit(tweetbow[trainset], tweetgts[trainset])"
   ]
  },
  {
   "cell_type": "code",
   "execution_count": 28,
   "metadata": {},
   "outputs": [
    {
     "name": "stdout",
     "output_type": "stream",
     "text": [
      "            positive  negative  neutral\n",
      "positive    0.610     0.068     0.323     \n",
      "negative    0.105     0.540     0.355     \n",
      "neutral     0.243     0.117     0.640     \n",
      "\n",
      "semeval-tweets\\twitter-dev-data.txt (bow-NaïveBayes)\n",
      "Accuracy: 0.607, Average Recall: 0.611, Macro F1: 0.602\n"
     ]
    }
   ],
   "source": [
    "# MaxEnt on bag-of-word features\n",
    "id_preds = {}\n",
    "ids = tweetids[devset]\n",
    "preds = nb_bow_model.predict(tweetbow[devset])\n",
    "for i in range(len(ids)):\n",
    "    id_preds[ids[i]] = preds[i]\n",
    "            \n",
    "devset_name = devset\n",
    "devset_path = join('semeval-tweets', devset_name)\n",
    "confusion(id_preds, devset_path, \"NaïveBayes\")\n",
    "evaluate(id_preds, devset_path, \"bow\" + '-' + \"NaïveBayes\")"
   ]
  },
  {
   "cell_type": "markdown",
   "metadata": {},
   "source": [
    "##### LSTM PyTorch"
   ]
  },
  {
   "cell_type": "code",
   "execution_count": 29,
   "metadata": {},
   "outputs": [],
   "source": [
    "# Customized Dataset reader\n",
    "class CustomDataset(Dataset):\n",
    "    def __init__(self, dataset):\n",
    "        self.dataset = dataset\n",
    "        self.tweetgts = tweetgts[self.dataset]\n",
    "        self.tweetembed = tweetembed[self.dataset]\n",
    "\n",
    "    def __len__(self):\n",
    "        return len(self.tweetgts)\n",
    "\n",
    "    def __getitem__(self, idx):\n",
    "        gts = self.tweetgts[idx]\n",
    "        # Map labels to integer values\n",
    "        if gts == 'neutral':\n",
    "            label = torch.tensor(0)\n",
    "        elif gts == 'negative':\n",
    "            label = torch.tensor(1)\n",
    "        elif gts == 'positive':\n",
    "            label = torch.tensor(2)\n",
    "        else:\n",
    "            label = torch.tensor(0)\n",
    "        # Pad the vector representation of tweets to length 30 with (index for) <pad>\n",
    "        embed = torch.tensor(self.tweetembed[idx][:30], dtype=torch.int64)\n",
    "        embed = torch.nn.functional.pad(embed, (0, 30-len(embed)), value=pad_index)\n",
    "        return embed, label"
   ]
  },
  {
   "cell_type": "code",
   "execution_count": 30,
   "metadata": {},
   "outputs": [],
   "source": [
    "# Loading all the datasets\n",
    "train_dataset = CustomDataset(trainset)\n",
    "dev_dataset = CustomDataset(devset)\n",
    "\n",
    "test_datasets = {}\n",
    "for testset in testsets:\n",
    "    test_datasets[testset] = CustomDataset(testset)"
   ]
  },
  {
   "cell_type": "code",
   "execution_count": 31,
   "metadata": {},
   "outputs": [],
   "source": [
    "batch_size = 32\n",
    "\n",
    "train_loader = DataLoader(dataset=train_dataset, batch_size=batch_size, shuffle=True)\n",
    "dev_loader = DataLoader(dataset=dev_dataset, batch_size=batch_size)\n",
    "\n",
    "test_loaders = {}\n",
    "for testset in testsets:\n",
    "    test_loaders[testset] = DataLoader(dataset=test_datasets[testset], batch_size=batch_size)"
   ]
  },
  {
   "cell_type": "code",
   "execution_count": 32,
   "metadata": {},
   "outputs": [],
   "source": [
    "class SentimentLSTM(nn.Module):\n",
    "    def __init__(self, embedding, embedding_dim,\n",
    "        hidden_dim, output_dim, n_layers, bidirectional, dropout_rate\n",
    "    ):\n",
    "        super().__init__()\n",
    "        self.embedding = embedding\n",
    "        self.embedding.weight.requires_grad = False\n",
    "        self.lstm = nn.LSTM(embedding_dim, hidden_dim, n_layers,\n",
    "            bidirectional=bidirectional, dropout=dropout_rate, batch_first=True\n",
    "        )\n",
    "        self.fc = nn.Linear(hidden_dim * 2 if bidirectional else hidden_dim, output_dim)\n",
    "        self.dropout = nn.Dropout(dropout_rate)\n",
    "\n",
    "    def forward(self, embed):\n",
    "        embedded = self.dropout(self.embedding(embed))\n",
    "        output, (hidden, cell) = self.lstm(embedded)\n",
    "        if self.lstm.bidirectional:\n",
    "            hidden = self.dropout(torch.cat([hidden[-1], hidden[-2]], dim=-1))\n",
    "        else:\n",
    "            hidden = self.dropout(hidden[-1])\n",
    "        prediction = self.fc(hidden)\n",
    "        return prediction"
   ]
  },
  {
   "cell_type": "code",
   "execution_count": 33,
   "metadata": {},
   "outputs": [],
   "source": [
    "embedding_dim = 100\n",
    "hidden_dim = 100\n",
    "output_dim = 3\n",
    "n_layers = 2\n",
    "bidirectional = True\n",
    "dropout_rate = 0.5\n",
    "\n",
    "lstm_model = SentimentLSTM(glove_embedding, embedding_dim,\n",
    "    hidden_dim, output_dim, n_layers, bidirectional, dropout_rate\n",
    ")"
   ]
  },
  {
   "cell_type": "code",
   "execution_count": 34,
   "metadata": {},
   "outputs": [
    {
     "name": "stdout",
     "output_type": "stream",
     "text": [
      "The LSTM model has 403,803 trainable parameters\n"
     ]
    }
   ],
   "source": [
    "count_parameters = sum(p.numel() for p in lstm_model.parameters() if p.requires_grad)\n",
    "\n",
    "print(f\"The LSTM model has {count_parameters:,} trainable parameters\")"
   ]
  },
  {
   "cell_type": "code",
   "execution_count": 35,
   "metadata": {},
   "outputs": [],
   "source": [
    "# Initialize the weights for LSTM model\n",
    "def initialize_weights(model):\n",
    "    if isinstance(model, nn.Linear):\n",
    "        nn.init.xavier_normal_(model.weight)\n",
    "        nn.init.zeros_(model.bias)\n",
    "    elif isinstance(model, nn.LSTM):\n",
    "        for name, param in model.named_parameters():\n",
    "            if \"bias\" in name:\n",
    "                nn.init.zeros_(param)\n",
    "            elif \"weight\" in name:\n",
    "                nn.init.orthogonal_(param)"
   ]
  },
  {
   "cell_type": "code",
   "execution_count": 36,
   "metadata": {},
   "outputs": [
    {
     "data": {
      "text/plain": [
       "SentimentLSTM(\n",
       "  (embedding): Embedding(5890, 100, padding_idx=1)\n",
       "  (lstm): LSTM(100, 100, num_layers=2, batch_first=True, dropout=0.5, bidirectional=True)\n",
       "  (fc): Linear(in_features=200, out_features=3, bias=True)\n",
       "  (dropout): Dropout(p=0.5, inplace=False)\n",
       ")"
      ]
     },
     "execution_count": 36,
     "metadata": {},
     "output_type": "execute_result"
    }
   ],
   "source": [
    "lstm_model.apply(initialize_weights)"
   ]
  },
  {
   "cell_type": "code",
   "execution_count": 37,
   "metadata": {},
   "outputs": [],
   "source": [
    "# Setting some parameters and choosing the optimzer, loss function, etc.\n",
    "learning_rate = 0.001\n",
    "optimizer = optim.Adam(lstm_model.parameters(), lr=learning_rate)\n",
    "criterion = nn.CrossEntropyLoss()\n",
    "device = torch.device(\"cuda\" if torch.cuda.is_available() else \"cpu\")\n",
    "lstm_model = lstm_model.to(device)\n",
    "criterion = criterion.to(device)"
   ]
  },
  {
   "cell_type": "code",
   "execution_count": 38,
   "metadata": {},
   "outputs": [],
   "source": [
    "# Train the model\n",
    "def train_model(model, criterion, optimizer, train_loader, epoch):\n",
    "    model.train()\n",
    "    train_loss = 0.0\n",
    "    count = 0\n",
    "    predictions = []\n",
    "    true_labels = []\n",
    "\n",
    "    for embeds, labels in train_loader:\n",
    "        embeds = embeds.to(device)\n",
    "        labels = labels.to(device)\n",
    "        \n",
    "        # Forward pass\n",
    "        outputs = model(embeds)\n",
    "        loss = criterion(outputs, labels)\n",
    "\n",
    "        predictions.extend(outputs.argmax(dim=-1).numpy())\n",
    "        true_labels.extend(labels.numpy())\n",
    "\n",
    "        # Backward and optimize\n",
    "        optimizer.zero_grad()\n",
    "        loss.backward()\n",
    "        optimizer.step()\n",
    "        \n",
    "        train_loss += loss.item() * embeds.size(0)\n",
    "        count += embeds.size(0)\n",
    "\n",
    "    predictions = np.array(predictions)\n",
    "    true_labels = np.array(true_labels)\n",
    "    macro_f1 = f1_score(true_labels, predictions, average='macro')\n",
    "\n",
    "    average_loss = train_loss / count\n",
    "    return average_loss, macro_f1"
   ]
  },
  {
   "cell_type": "code",
   "execution_count": 39,
   "metadata": {},
   "outputs": [],
   "source": [
    "# Validate the model\n",
    "def dev_model(model, criterion, dev_loader, epoch):\n",
    "    model.eval()\n",
    "    dev_loss = 0.0\n",
    "    count = 0\n",
    "    predictions = []\n",
    "    true_labels = []\n",
    "\n",
    "    with torch.no_grad():\n",
    "        for embeds, labels in dev_loader:\n",
    "            embeds = embeds.to(device)\n",
    "            labels = labels.to(device)\n",
    "            outputs = model(embeds)\n",
    "            loss = criterion(outputs, labels)\n",
    "\n",
    "            predictions.extend(outputs.argmax(dim=-1).numpy())\n",
    "            true_labels.extend(labels.numpy())\n",
    "\n",
    "            dev_loss += loss.item() * embeds.size(0)\n",
    "            count += embeds.size(0)\n",
    "    \n",
    "    predictions = np.array(predictions)\n",
    "    true_labels = np.array(true_labels)\n",
    "    macro_f1 = f1_score(true_labels, predictions, average='macro')\n",
    "\n",
    "    average_loss = dev_loss / count\n",
    "    return average_loss, macro_f1"
   ]
  },
  {
   "cell_type": "code",
   "execution_count": 40,
   "metadata": {},
   "outputs": [],
   "source": [
    "def train_dev(model, criterion, optimizer, train_loader, dev_loader, num_epochs, path):\n",
    "    torch.save(model.state_dict(), path)\n",
    "    best_f1 = 0.0\n",
    "\n",
    "    # loss across epochs\n",
    "    train_loss_history = []\n",
    "    dev_loss_history = []\n",
    "    train_f1_history = []\n",
    "    dev_f1_history = []\n",
    "\n",
    "    for epoch in range(num_epochs):\n",
    "        logging.info(f'Training epoch {epoch+1}......')\n",
    "        train_loss, train_f1 = train_model(model, criterion, optimizer, train_loader, epoch)\n",
    "        dev_loss, dev_f1 = dev_model(model, criterion, dev_loader, epoch)\n",
    "        train_loss_history.append(train_loss)\n",
    "        dev_loss_history.append(dev_loss)\n",
    "        train_f1_history.append(train_f1)\n",
    "        dev_f1_history.append(dev_f1)\n",
    "\n",
    "        logging.info(f\"Average training loss: {train_loss}; Macro F1: {train_f1}\")\n",
    "        logging.info(f\"Average validation loss: {dev_loss}; Macro F1: {dev_f1}\")\n",
    "            \n",
    "        # deep copy the model\n",
    "        if dev_f1 > best_f1:\n",
    "            best_f1 = dev_f1\n",
    "            torch.save(model.state_dict(), path)\n",
    "\n",
    "    # load best model weights\n",
    "    model.load_state_dict(torch.load(path))\n",
    "\n",
    "    return model, train_loss_history, dev_loss_history, train_f1_history, dev_f1_history"
   ]
  },
  {
   "cell_type": "code",
   "execution_count": 41,
   "metadata": {},
   "outputs": [],
   "source": [
    "# Generate predictions\n",
    "def test_model(model, test_loader):\n",
    "    model.eval()\n",
    "    predictions = []\n",
    "\n",
    "    with torch.no_grad():\n",
    "        for embeds, _ in test_loader:\n",
    "            embeds = embeds.to(device)\n",
    "            outputs = model(embeds)\n",
    "            for output in list(outputs.argmax(dim=-1)):\n",
    "                if output == 0:\n",
    "                    predictions.append('neutral')\n",
    "                elif output == 1:\n",
    "                    predictions.append('negative')\n",
    "                elif output == 2:\n",
    "                    predictions.append('positive')\n",
    "                else:\n",
    "                    predictions.append('neutral')\n",
    "\n",
    "    return predictions"
   ]
  },
  {
   "cell_type": "code",
   "execution_count": null,
   "metadata": {},
   "outputs": [],
   "source": [
    "# # Training the model (we can see from the convergence plot that\n",
    "# # though the loss and macro f1 score on training set keeps improving throughout the 50 epochs,\n",
    "# # on validation set they stopped improving after around 20 epochs,\n",
    "# # so there may be danger of overfitting, but we choose the one with the best validation f1)\n",
    "\n",
    "# # Takes about an hour to run on CPU\n",
    "# # Unquote this block if you want to train the LSTM model from scratch\n",
    "\n",
    "# lstm_model, train_loss_history, dev_loss_history, train_f1_history, dev_f1_history = \\\n",
    "#     train_dev(lstm_model, criterion, optimizer, train_loader, dev_loader, 50, 'lstm.pt')"
   ]
  },
  {
   "cell_type": "code",
   "execution_count": 42,
   "metadata": {},
   "outputs": [
    {
     "data": {
      "text/plain": [
       "<All keys matched successfully>"
      ]
     },
     "execution_count": 42,
     "metadata": {},
     "output_type": "execute_result"
    }
   ],
   "source": [
    "lstm_model.load_state_dict(torch.load('lstm.pt'))"
   ]
  },
  {
   "cell_type": "code",
   "execution_count": null,
   "metadata": {},
   "outputs": [
    {
     "data": {
      "image/png": "[encoded data removed]",
      "text/plain": [
       "<Figure size 800x300 with 2 Axes>"
      ]
     },
     "metadata": {},
     "output_type": "display_data"
    }
   ],
   "source": [
    "# fig, axs = plt.subplots(1, 2, figsize=(8, 3))\n",
    "\n",
    "# axs[0].plot(range(1, len(train_loss_history)+1), train_loss_history, color='blue', label='Training Loss')\n",
    "# axs[0].plot(range(1, len(dev_loss_history)+1), dev_loss_history, color='red', label='Validation Loss')\n",
    "# axs[0].set_title('Training and Validation Loss')\n",
    "# axs[0].set_xlabel('Epoch')\n",
    "# axs[0].set_ylabel('Loss')\n",
    "# axs[0].legend()\n",
    "\n",
    "# axs[1].plot(range(1, len(train_f1_history)+1), train_f1_history, color='blue', label='Training R2')\n",
    "# axs[1].plot(range(1, len(dev_f1_history)+1), dev_f1_history, color='red', label='Validation R2')\n",
    "# axs[1].set_title('Training and Validation Macro F1')\n",
    "# axs[1].set_xlabel('Epoch')\n",
    "# axs[1].set_ylabel('Macro F1')\n",
    "# axs[1].legend()\n",
    "\n",
    "# plt.tight_layout()\n",
    "# plt.show()"
   ]
  },
  {
   "cell_type": "code",
   "execution_count": 43,
   "metadata": {},
   "outputs": [
    {
     "name": "stdout",
     "output_type": "stream",
     "text": [
      "            positive  negative  neutral\n",
      "positive    0.715     0.051     0.234     \n",
      "negative    0.078     0.669     0.253     \n",
      "neutral     0.188     0.130     0.682     \n",
      "\n",
      "semeval-tweets\\twitter-dev-data.txt (embed-LSTM)\n",
      "Accuracy: 0.691, Average Recall: 0.667, Macro F1: 0.660\n"
     ]
    }
   ],
   "source": [
    "id_preds = {}\n",
    "ids = tweetids[devset]\n",
    "preds = test_model(lstm_model, dev_loader)\n",
    "for i in range(len(ids)):\n",
    "    id_preds[ids[i]] = preds[i]\n",
    "            \n",
    "devset_name = devset\n",
    "devset_path = join('semeval-tweets', devset_name)\n",
    "confusion(id_preds, devset_path, \"LSTM\")\n",
    "evaluate(id_preds, devset_path, \"embed\" + '-' + \"LSTM\")"
   ]
  },
  {
   "cell_type": "markdown",
   "metadata": {},
   "source": [
    "##### BERT Transformer"
   ]
  },
  {
   "cell_type": "code",
   "execution_count": 44,
   "metadata": {},
   "outputs": [],
   "source": [
    "transformer_name = \"bert-base-uncased\"\n",
    "tokenizer = transformers.AutoTokenizer.from_pretrained(transformer_name)\n",
    "transformer = transformers.AutoModel.from_pretrained(transformer_name)"
   ]
  },
  {
   "cell_type": "code",
   "execution_count": 45,
   "metadata": {},
   "outputs": [
    {
     "name": "stdout",
     "output_type": "stream",
     "text": [
      "Average sentence length (raw) on twitter-training-data.txt: 20.248974523846478\n",
      "Average sentence length (raw) on twitter-dev-data.txt: 20.1135\n",
      "Average sentence length (raw) on twitter-test1.txt: 21.706881903143586\n",
      "Average sentence length (raw) on twitter-test2.txt: 21.626011872638962\n",
      "Average sentence length (raw) on twitter-test3.txt: 21.44766708701135\n"
     ]
    }
   ],
   "source": [
    "# Calculate the average length of raw tweet from each dataset\n",
    "for dataset in [trainset, devset] + testsets:\n",
    "    total_length = 0\n",
    "    total_tweets = len(tweets[dataset])\n",
    "    \n",
    "    for tweet_raw in tweets[dataset]:\n",
    "        total_length += len(tokenizer.tokenize(tweet_raw))\n",
    "    \n",
    "    average_length = total_length / total_tweets\n",
    "    print(f\"Average sentence length (raw) on {dataset}: {average_length}\")"
   ]
  },
  {
   "cell_type": "code",
   "execution_count": 46,
   "metadata": {},
   "outputs": [
    {
     "name": "stdout",
     "output_type": "stream",
     "text": [
      "0.9995787233099044 of tweets on twitter-training-data.txt are shorter than 40 tokens\n",
      "0.999 of tweets on twitter-dev-data.txt are shorter than 40 tokens\n",
      "0.9994335882186349 of tweets on twitter-test1.txt are shorter than 40 tokens\n",
      "0.9994603345925526 of tweets on twitter-test2.txt are shorter than 40 tokens\n",
      "1.0 of tweets on twitter-test3.txt are shorter than 40 tokens\n"
     ]
    }
   ],
   "source": [
    "# The average length is around 20-21, let's see how many of the tweets are shorter than 40\n",
    "# Most of the tweets are included here so we may just set max_length to 40\n",
    "for dataset in [trainset, devset] + testsets:\n",
    "    shorter_than = 0\n",
    "    total_tweets = len(tweets[dataset])\n",
    "    \n",
    "    for tweet_raw in tweets[dataset]:\n",
    "        if len(tokenizer.tokenize(tweet_raw)) <= 40:\n",
    "            shorter_than += 1\n",
    "    \n",
    "    percentage = shorter_than / total_tweets\n",
    "    print(f\"{percentage} of tweets on {dataset} are shorter than 40 tokens\")"
   ]
  },
  {
   "cell_type": "code",
   "execution_count": 47,
   "metadata": {},
   "outputs": [],
   "source": [
    "# Customized Dataset reader FOR BERT\n",
    "class CustomDatasetBERT(Dataset):\n",
    "    def __init__(self, dataset):\n",
    "        self.dataset = dataset\n",
    "        self.tweetgts = tweetgts[self.dataset]\n",
    "        self.tweets = tweets[self.dataset]\n",
    "\n",
    "    def __len__(self):\n",
    "        return len(self.tweetgts)\n",
    "\n",
    "    def __getitem__(self, idx):\n",
    "        gts = self.tweetgts[idx]\n",
    "        # Map labels to integer values\n",
    "        if gts == 'neutral':\n",
    "            label = torch.tensor(0)\n",
    "        elif gts == 'negative':\n",
    "            label = torch.tensor(1)\n",
    "        elif gts == 'positive':\n",
    "            label = torch.tensor(2)\n",
    "        else:\n",
    "            label = torch.tensor(0)\n",
    "        # Pad the vector representation of tweets to length 40 with (index for) <pad>\n",
    "        encoded_input = tokenizer(self.tweets[idx], padding='max_length', truncation=True, max_length=40)\n",
    "        embed = torch.tensor(encoded_input['input_ids'], dtype=torch.int64)\n",
    "        mask = torch.tensor(encoded_input['attention_mask'], dtype=torch.int64)\n",
    "        return embed, mask, label"
   ]
  },
  {
   "cell_type": "code",
   "execution_count": 48,
   "metadata": {},
   "outputs": [],
   "source": [
    "# Loading all the datasets\n",
    "train_datasetBERT = CustomDatasetBERT(trainset)\n",
    "dev_datasetBERT = CustomDatasetBERT(devset)\n",
    "\n",
    "test_datasetsBERT = {}\n",
    "for testset in testsets:\n",
    "    test_datasetsBERT[testset] = CustomDatasetBERT(testset)"
   ]
  },
  {
   "cell_type": "code",
   "execution_count": 49,
   "metadata": {},
   "outputs": [],
   "source": [
    "batch_sizeBERT = 32\n",
    "\n",
    "train_loaderBERT = DataLoader(dataset=train_datasetBERT, batch_size=batch_sizeBERT, shuffle=True)\n",
    "dev_loaderBERT = DataLoader(dataset=dev_datasetBERT, batch_size=batch_sizeBERT)\n",
    "\n",
    "test_loadersBERT = {}\n",
    "for testset in testsets:\n",
    "    test_loadersBERT[testset] = DataLoader(dataset=test_datasetsBERT[testset], batch_size=batch_sizeBERT)"
   ]
  },
  {
   "cell_type": "code",
   "execution_count": 50,
   "metadata": {},
   "outputs": [],
   "source": [
    "class SentimentTransformer(nn.Module):\n",
    "    def __init__(self, transformer, output_dim, freeze):\n",
    "        super().__init__()\n",
    "        self.transformer = transformer\n",
    "        hidden_dim = transformer.config.hidden_size\n",
    "        self.fc = nn.Linear(hidden_dim, output_dim)\n",
    "        if freeze:\n",
    "            for param in self.transformer.parameters():\n",
    "                param.requires_grad = False\n",
    "\n",
    "    def forward(self, embed, mask):\n",
    "        output = self.transformer(embed, attention_mask=mask, output_attentions=True)\n",
    "        hidden = output.last_hidden_state\n",
    "        attention = output.attentions[-1]\n",
    "        cls_hidden = hidden[:, 0, :]\n",
    "        prediction = self.fc(torch.tanh(cls_hidden))\n",
    "        return prediction"
   ]
  },
  {
   "cell_type": "code",
   "execution_count": 51,
   "metadata": {},
   "outputs": [],
   "source": [
    "transformer_model = SentimentTransformer(transformer, 3, False)"
   ]
  },
  {
   "cell_type": "code",
   "execution_count": 52,
   "metadata": {},
   "outputs": [
    {
     "name": "stdout",
     "output_type": "stream",
     "text": [
      "The Transformer model has 109,484,547 trainable parameters\n"
     ]
    }
   ],
   "source": [
    "count_parameters = sum(p.numel() for p in transformer_model.parameters() if p.requires_grad)\n",
    "\n",
    "print(f\"The Transformer model has {count_parameters:,} trainable parameters\")"
   ]
  },
  {
   "cell_type": "code",
   "execution_count": 53,
   "metadata": {},
   "outputs": [],
   "source": [
    "# Setting some parameters and choosing the optimzer, loss function, etc.\n",
    "learning_rateBERT = 0.00001\n",
    "optimizerBERT = optim.Adam(transformer_model.parameters(), lr=learning_rateBERT)\n",
    "criterionBERT = nn.CrossEntropyLoss()\n",
    "deviceBERT = torch.device(\"cuda\" if torch.cuda.is_available() else \"cpu\")\n",
    "transformer_model = transformer_model.to(deviceBERT)\n",
    "criterionBERT = criterionBERT.to(deviceBERT)"
   ]
  },
  {
   "cell_type": "code",
   "execution_count": 54,
   "metadata": {},
   "outputs": [],
   "source": [
    "# Train the model\n",
    "def train_modelBERT(model, criterion, optimizer, train_loader, epoch):\n",
    "    model.train()\n",
    "    train_loss = 0.0\n",
    "    count = 0\n",
    "    predictions = []\n",
    "    true_labels = []\n",
    "    total_step = len(train_loader)\n",
    "\n",
    "    for i, (embeds, mask, labels) in enumerate(train_loader):\n",
    "        embeds = embeds.to(deviceBERT)\n",
    "        mask = mask.to(deviceBERT)\n",
    "        labels = labels.to(deviceBERT)\n",
    "        \n",
    "        # Forward pass\n",
    "        outputs = model(embeds, mask)\n",
    "        loss = criterion(outputs, labels)\n",
    "\n",
    "        predictions.extend(outputs.argmax(dim=-1).numpy())\n",
    "        true_labels.extend(labels.numpy())\n",
    "\n",
    "        # Backward and optimize\n",
    "        optimizer.zero_grad()\n",
    "        loss.backward()\n",
    "        optimizer.step()\n",
    "        \n",
    "        train_loss += loss.item() * embeds.size(0)\n",
    "        count += embeds.size(0)\n",
    "        \n",
    "        if (i+1) % 100 == 0:\n",
    "            logging.info('Epoch [{}], Step [{}/{}], Loss: {:.4f}' \n",
    "                .format(epoch+1, i+1, total_step, loss.item()))\n",
    "\n",
    "    predictions = np.array(predictions)\n",
    "    true_labels = np.array(true_labels)\n",
    "    macro_f1 = f1_score(true_labels, predictions, average='macro')\n",
    "\n",
    "    average_loss = train_loss / count\n",
    "    return average_loss, macro_f1"
   ]
  },
  {
   "cell_type": "code",
   "execution_count": 55,
   "metadata": {},
   "outputs": [],
   "source": [
    "# Validate the model\n",
    "def dev_modelBERT(model, criterion, dev_loader, epoch):\n",
    "    model.eval()\n",
    "    dev_loss = 0.0\n",
    "    count = 0\n",
    "    predictions = []\n",
    "    true_labels = []\n",
    "\n",
    "    with torch.no_grad():\n",
    "        for embeds, mask, labels in dev_loader:\n",
    "            embeds = embeds.to(deviceBERT)\n",
    "            mask = mask.to(deviceBERT)\n",
    "            labels = labels.to(deviceBERT)\n",
    "            outputs = model(embeds, mask)\n",
    "            loss = criterion(outputs, labels)\n",
    "\n",
    "            predictions.extend(outputs.argmax(dim=-1).numpy())\n",
    "            true_labels.extend(labels.numpy())\n",
    "\n",
    "            dev_loss += loss.item() * embeds.size(0)\n",
    "            count += embeds.size(0)\n",
    "    \n",
    "    predictions = np.array(predictions)\n",
    "    true_labels = np.array(true_labels)\n",
    "    macro_f1 = f1_score(true_labels, predictions, average='macro')\n",
    "\n",
    "    average_loss = dev_loss / count\n",
    "    return average_loss, macro_f1"
   ]
  },
  {
   "cell_type": "code",
   "execution_count": 56,
   "metadata": {},
   "outputs": [],
   "source": [
    "def train_devBERT(model, criterion, optimizer, train_loader, dev_loader, num_epochs, path):\n",
    "    torch.save(model.state_dict(), path)\n",
    "    best_f1 = 0.0\n",
    "\n",
    "    # loss across epochs\n",
    "    train_loss_history = []\n",
    "    dev_loss_history = []\n",
    "    train_f1_history = []\n",
    "    dev_f1_history = []\n",
    "\n",
    "    for epoch in range(num_epochs):\n",
    "        logging.info(f'Training epoch {epoch+1}......')\n",
    "        train_loss, train_f1 = train_modelBERT(model, criterion, optimizer, train_loader, epoch)\n",
    "        dev_loss, dev_f1 = dev_modelBERT(model, criterion, dev_loader, epoch)\n",
    "        train_loss_history.append(train_loss)\n",
    "        dev_loss_history.append(dev_loss)\n",
    "        train_f1_history.append(train_f1)\n",
    "        dev_f1_history.append(dev_f1)\n",
    "\n",
    "        logging.info(f\"Average training loss: {train_loss}; Macro F1: {train_f1}\")\n",
    "        logging.info(f\"Average validation loss: {dev_loss}; Macro F1: {dev_f1}\")\n",
    "            \n",
    "        # deep copy the model\n",
    "        if dev_f1 > best_f1:\n",
    "            best_f1 = dev_f1\n",
    "            torch.save(model.state_dict(), path)\n",
    "\n",
    "    # load best model weights\n",
    "    model.load_state_dict(torch.load(path))\n",
    "\n",
    "    return model, train_loss_history, dev_loss_history, train_f1_history, dev_f1_history"
   ]
  },
  {
   "cell_type": "code",
   "execution_count": 57,
   "metadata": {},
   "outputs": [],
   "source": [
    "# Generate predictions\n",
    "def test_modelBERT(model, test_loader):\n",
    "    model.eval()\n",
    "    predictions = []\n",
    "\n",
    "    with torch.no_grad():\n",
    "        for embeds, mask, _ in test_loader:\n",
    "            embeds = embeds.to(deviceBERT)\n",
    "            mask = mask.to(deviceBERT)\n",
    "            outputs = model(embeds, mask)\n",
    "            for output in list(outputs.argmax(dim=-1)):\n",
    "                if output == 0:\n",
    "                    predictions.append('neutral')\n",
    "                elif output == 1:\n",
    "                    predictions.append('negative')\n",
    "                elif output == 2:\n",
    "                    predictions.append('positive')\n",
    "                else:\n",
    "                    predictions.append('neutral')\n",
    "\n",
    "    return predictions"
   ]
  },
  {
   "cell_type": "code",
   "execution_count": null,
   "metadata": {},
   "outputs": [],
   "source": [
    "# # Training the model (we can see from the convergence plot that\n",
    "# # though the loss and macro f1 score on training set keeps improving throughout the 5 epochs,\n",
    "# # on validation set they were actually worsening （especially the loss)\n",
    "# # so there may be danger of overfitting, but we choose the one with the best validation f1)\n",
    "\n",
    "# # Takes about 18 hours to run on CPU\n",
    "# # Unquote this block if you want to train the BERT Transformer model from scratch\n",
    "\n",
    "# transformer_model, train_loss_BERT, dev_loss_BERT, train_f1_BERT, dev_f1_BERT = \\\n",
    "#     train_devBERT(transformer_model, criterionBERT, optimizerBERT, train_loaderBERT, dev_loaderBERT, \\\n",
    "#         5, 'transformer.pt')"
   ]
  },
  {
   "cell_type": "code",
   "execution_count": 58,
   "metadata": {},
   "outputs": [
    {
     "data": {
      "text/plain": [
       "<All keys matched successfully>"
      ]
     },
     "execution_count": 58,
     "metadata": {},
     "output_type": "execute_result"
    }
   ],
   "source": [
    "transformer_model.load_state_dict(torch.load('transformer.pt'))"
   ]
  },
  {
   "cell_type": "code",
   "execution_count": null,
   "metadata": {},
   "outputs": [
    {
     "data": {
      "image/png": "[encoded data removed]",
      "text/plain": [
       "<Figure size 800x300 with 2 Axes>"
      ]
     },
     "metadata": {},
     "output_type": "display_data"
    }
   ],
   "source": [
    "# fig, axs = plt.subplots(1, 2, figsize=(8, 3))\n",
    "\n",
    "# axs[0].plot(range(1, len(train_loss_BERT)+1), train_loss_BERT, color='blue', label='Training Loss')\n",
    "# axs[0].plot(range(1, len(dev_loss_BERT)+1), dev_loss_BERT, color='red', label='Validation Loss')\n",
    "# axs[0].set_title('Training and Validation Loss')\n",
    "# axs[0].set_xlabel('Epoch')\n",
    "# axs[0].set_ylabel('Loss')\n",
    "# axs[0].legend()\n",
    "\n",
    "# axs[1].plot(range(1, len(train_f1_BERT)+1), train_f1_BERT, color='blue', label='Training R2')\n",
    "# axs[1].plot(range(1, len(dev_f1_BERT)+1), dev_f1_BERT, color='red', label='Validation R2')\n",
    "# axs[1].set_title('Training and Validation Macro F1')\n",
    "# axs[1].set_xlabel('Epoch')\n",
    "# axs[1].set_ylabel('Macro F1')\n",
    "# axs[1].legend()\n",
    "\n",
    "# plt.tight_layout()\n",
    "# plt.show()"
   ]
  },
  {
   "cell_type": "code",
   "execution_count": 59,
   "metadata": {},
   "outputs": [
    {
     "name": "stdout",
     "output_type": "stream",
     "text": [
      "            positive  negative  neutral\n",
      "positive    0.758     0.016     0.227     \n",
      "negative    0.033     0.711     0.256     \n",
      "neutral     0.168     0.114     0.717     \n",
      "\n",
      "semeval-tweets\\twitter-dev-data.txt (BERT Transfomer)\n",
      "Accuracy: 0.731, Average Recall: 0.725, Macro F1: 0.730\n"
     ]
    }
   ],
   "source": [
    "id_preds = {}\n",
    "ids = tweetids[devset]\n",
    "preds = test_modelBERT(transformer_model, dev_loaderBERT)\n",
    "for i in range(len(ids)):\n",
    "    id_preds[ids[i]] = preds[i]\n",
    "            \n",
    "devset_name = devset\n",
    "devset_path = join('semeval-tweets', devset_name)\n",
    "confusion(id_preds, devset_path, \"BERT Transfomer\")\n",
    "evaluate(id_preds, devset_path, \"BERT Transfomer\")"
   ]
  },
  {
   "cell_type": "markdown",
   "metadata": {},
   "source": [
    "#### Evaluation"
   ]
  },
  {
   "cell_type": "code",
   "execution_count": 60,
   "metadata": {},
   "outputs": [],
   "source": [
    "def get_prediction(classifier, features, testset):\n",
    "    if classifier == 'MaxEnt':\n",
    "        preds = maxent_bow_model.predict(tweetbow[testset])\n",
    "    elif classifier == 'NaïveBayes':\n",
    "        preds = nb_bow_model.predict(tweetbow[testset])\n",
    "    elif classifier == 'LSTM':\n",
    "        test_loader = test_loaders[testset]\n",
    "        preds = test_model(lstm_model, test_loader)\n",
    "    elif classifier == 'BERT':\n",
    "        test_loader = test_loadersBERT[testset]\n",
    "        preds = test_modelBERT(transformer_model, test_loader)\n",
    "    \n",
    "    return preds"
   ]
  },
  {
   "cell_type": "code",
   "execution_count": 61,
   "metadata": {},
   "outputs": [
    {
     "name": "stdout",
     "output_type": "stream",
     "text": [
      "Testing MaxEnt classifier with bow features:\n",
      "=======================================================\n",
      "semeval-tweets\\twitter-test1.txt (bow-MaxEnt)\n",
      "Accuracy: 0.632, Average Recall: 0.573, Macro F1: 0.554\n",
      "-------------------------------------------------------\n",
      "semeval-tweets\\twitter-test2.txt (bow-MaxEnt)\n",
      "Accuracy: 0.646, Average Recall: 0.573, Macro F1: 0.569\n",
      "-------------------------------------------------------\n",
      "semeval-tweets\\twitter-test3.txt (bow-MaxEnt)\n",
      "Accuracy: 0.614, Average Recall: 0.565, Macro F1: 0.536\n",
      "-------------------------------------------------------\n",
      "\n",
      "Testing NaïveBayes classifier with bow features:\n",
      "=======================================================\n",
      "semeval-tweets\\twitter-test1.txt (bow-NaïveBayes)\n",
      "Accuracy: 0.605, Average Recall: 0.551, Macro F1: 0.546\n",
      "-------------------------------------------------------\n",
      "semeval-tweets\\twitter-test2.txt (bow-NaïveBayes)\n",
      "Accuracy: 0.635, Average Recall: 0.537, Macro F1: 0.548\n",
      "-------------------------------------------------------\n",
      "semeval-tweets\\twitter-test3.txt (bow-NaïveBayes)\n",
      "Accuracy: 0.597, Average Recall: 0.549, Macro F1: 0.533\n",
      "-------------------------------------------------------\n",
      "\n",
      "Testing LSTM classifier with embed features:\n",
      "=======================================================\n",
      "semeval-tweets\\twitter-test1.txt (embed-LSTM)\n",
      "Accuracy: 0.676, Average Recall: 0.613, Macro F1: 0.595\n",
      "-------------------------------------------------------\n",
      "semeval-tweets\\twitter-test2.txt (embed-LSTM)\n",
      "Accuracy: 0.691, Average Recall: 0.617, Macro F1: 0.620\n",
      "-------------------------------------------------------\n",
      "semeval-tweets\\twitter-test3.txt (embed-LSTM)\n",
      "Accuracy: 0.640, Average Recall: 0.588, Macro F1: 0.562\n",
      "-------------------------------------------------------\n",
      "\n",
      "Testing BERT classifier with embed features:\n",
      "=======================================================\n",
      "semeval-tweets\\twitter-test1.txt (embed-BERT)\n",
      "Accuracy: 0.730, Average Recall: 0.693, Macro F1: 0.709\n",
      "-------------------------------------------------------\n",
      "semeval-tweets\\twitter-test2.txt (embed-BERT)\n",
      "Accuracy: 0.739, Average Recall: 0.684, Macro F1: 0.709\n",
      "-------------------------------------------------------\n",
      "semeval-tweets\\twitter-test3.txt (embed-BERT)\n",
      "Accuracy: 0.722, Average Recall: 0.703, Macro F1: 0.704\n",
      "-------------------------------------------------------\n",
      "\n"
     ]
    }
   ],
   "source": [
    "# Build traditional sentiment classifiers. An example classifier name 'svm' is given\n",
    "# in the code below. You should replace the other two classifier names\n",
    "# with your own choices. For features used for classifier training, \n",
    "# the 'bow' feature is given in the code. But you could also explore the \n",
    "# use of other features.\n",
    "\n",
    "for classifier in ['MaxEnt', 'NaïveBayes', 'LSTM', 'BERT']:\n",
    "    for features in ['bow', 'embed']:\n",
    "        # Skeleton: Creation and training of the classifiers\n",
    "        # Sorry but I really don't want to do the training here\n",
    "        # they are already done in previous code blocks\n",
    "        if classifier not in ['LSTM', 'BERT']:\n",
    "            if features == 'embed':\n",
    "                continue\n",
    "        elif classifier in ['LSTM', 'BERT']:\n",
    "            if features != 'embed':\n",
    "                continue\n",
    "        print(f\"Testing {classifier} classifier with {features} features:\")\n",
    "        print('=' * 55)\n",
    "\n",
    "        # Predition performance of the classifiers\n",
    "        for testset in testsets:\n",
    "            id_preds = {}\n",
    "            # write the prediction and evaluation code here\n",
    "            ids = tweetids[testset]\n",
    "            preds = get_prediction(classifier, features, testset)\n",
    "            for i in range(len(ids)):\n",
    "                id_preds[ids[i]] = preds[i]\n",
    "            \n",
    "            testset_name = testset\n",
    "            testset_path = join('semeval-tweets', testset_name)\n",
    "            # confusion(id_preds, testset_path, classifier)\n",
    "            evaluate(id_preds, testset_path, features + '-' + classifier)\n",
    "            print('-' * 55)\n",
    "        print()"
   ]
  }
 ],
 "metadata": {
  "kernelspec": {
   "display_name": "Python 3 (ipykernel)",
   "language": "python",
   "name": "python3"
  },
  "language_info": {
   "codemirror_mode": {
    "name": "ipython",
    "version": 3
   },
   "file_extension": ".py",
   "mimetype": "text/x-python",
   "name": "python",
   "nbconvert_exporter": "python",
   "pygments_lexer": "ipython3",
   "version": "3.10.0"
  }
 },
 "nbformat": 4,
 "nbformat_minor": 2
}
