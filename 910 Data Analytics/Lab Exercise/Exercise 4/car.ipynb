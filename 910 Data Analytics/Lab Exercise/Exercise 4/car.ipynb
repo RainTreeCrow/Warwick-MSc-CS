{
 "cells": [
  {
   "cell_type": "code",
   "execution_count": 1,
   "metadata": {},
   "outputs": [],
   "source": [
    "import pandas as pd\n",
    "\n",
    "names = ['buying', 'maint', 'doors', 'persons', 'lug_boot', 'safety', 'class']\n",
    "features = pd.read_csv('car/car.data', names=names)"
   ]
  },
  {
   "cell_type": "code",
   "execution_count": 15,
   "metadata": {},
   "outputs": [
    {
     "name": "stdout",
     "output_type": "stream",
     "text": [
      "buying  maint  doors  persons  lug_boot  safety  class\n",
      "high    high   2      2        big       high    unacc    1\n",
      "                                         low     unacc    1\n",
      "                                         med     unacc    1\n",
      "                               med       high    unacc    1\n",
      "                                         low     unacc    1\n",
      "                                                         ..\n",
      "vhigh   vhigh  5more  more     med       low     unacc    1\n",
      "                                         med     unacc    1\n",
      "                               small     high    unacc    1\n",
      "                                         low     unacc    1\n",
      "                                         med     unacc    1\n",
      "Length: 1728, dtype: int64\n"
     ]
    }
   ],
   "source": [
    "print(features.groupby(names[:7]).size())"
   ]
  }
 ],
 "metadata": {
  "kernelspec": {
   "display_name": "Python 3",
   "language": "python",
   "name": "python3"
  },
  "language_info": {
   "codemirror_mode": {
    "name": "ipython",
    "version": 3
   },
   "file_extension": ".py",
   "mimetype": "text/x-python",
   "name": "python",
   "nbconvert_exporter": "python",
   "pygments_lexer": "ipython3",
   "version": "3.10.0"
  }
 },
 "nbformat": 4,
 "nbformat_minor": 2
}
