{
 "cells": [
  {
   "cell_type": "code",
   "execution_count": 1,
   "metadata": {},
   "outputs": [],
   "source": [
    "from ucimlrepo import fetch_ucirepo\n",
    "\n",
    "automobile = fetch_ucirepo(id=10)\n",
    "features = automobile.data.features"
   ]
  },
  {
   "cell_type": "code",
   "execution_count": 2,
   "metadata": {},
   "outputs": [
    {
     "name": "stdout",
     "output_type": "stream",
     "text": [
      "1. 39 vehicle models are produced by manufacturers beginning with 'm'.\n"
     ]
    }
   ],
   "source": [
    "m_models_count = 0\n",
    "for maker in features['make']:\n",
    "    if maker[0] == 'm':\n",
    "        m_models_count += 1\n",
    "print(\"1. {} vehicle models are produced by manufacturers beginning with \\'m\\'.\".format(m_models_count))"
   ]
  },
  {
   "cell_type": "code",
   "execution_count": 3,
   "metadata": {},
   "outputs": [
    {
     "name": "stdout",
     "output_type": "stream",
     "text": [
      "2. There are 36 different combinations (including unknown).\n",
      "   There are 34 different combinations (excluding unknown).\n"
     ]
    }
   ],
   "source": [
    "colums = ['fuel-type', 'aspiration', 'num-of-doors', 'body-style', 'drive-wheels', 'engine-location']\n",
    "combinations_w_unknown = features.groupby(by=colums, dropna=False).size()\n",
    "combinations_wo_unknown = features.groupby(by=colums, dropna=True).size()\n",
    "# print(combinations_w_unknown)\n",
    "# print(combinations_wo_unknown)\n",
    "print(\"2. There are {} different combinations (including unknown).\".format(len(combinations_w_unknown)))\n",
    "print(\"   There are {} different combinations (excluding unknown).\".format(len(combinations_wo_unknown)))"
   ]
  },
  {
   "cell_type": "code",
   "execution_count": 4,
   "metadata": {},
   "outputs": [
    {
     "name": "stdout",
     "output_type": "stream",
     "text": [
      "3. The median price of four door vehicles is 11245.0.\n",
      "   The average price of four door vehicles is 13565.67256637168.\n"
     ]
    }
   ],
   "source": [
    "four_door_vehicles = features.query('`num-of-doors` == 4')\n",
    "# print(four_door_vehicles)\n",
    "median_price_4door = four_door_vehicles.price.median()\n",
    "average_price_4door = four_door_vehicles.price.mean()\n",
    "print(\"3. The median price of four door vehicles is {}.\".format(median_price_4door))\n",
    "print(\"   The average price of four door vehicles is {}.\".format(average_price_4door))"
   ]
  }
 ],
 "metadata": {
  "kernelspec": {
   "display_name": "Python 3",
   "language": "python",
   "name": "python3"
  },
  "language_info": {
   "codemirror_mode": {
    "name": "ipython",
    "version": 3
   },
   "file_extension": ".py",
   "mimetype": "text/x-python",
   "name": "python",
   "nbconvert_exporter": "python",
   "pygments_lexer": "ipython3",
   "version": "3.10.0"
  }
 },
 "nbformat": 4,
 "nbformat_minor": 2
}
